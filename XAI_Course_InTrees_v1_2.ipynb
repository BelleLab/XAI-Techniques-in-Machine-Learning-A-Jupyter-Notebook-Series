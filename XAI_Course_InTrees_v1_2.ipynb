{
  "nbformat": 4,
  "nbformat_minor": 0,
  "metadata": {
    "colab": {
      "provenance": []
    },
    "kernelspec": {
      "name": "python3",
      "display_name": "Python 3"
    }
  },
  "cells": [
    {
      "cell_type": "markdown",
      "metadata": {
        "id": "Gl7iSPq9mIRx"
      },
      "source": [
        "#Explainable AI\n",
        "\n",
        "## Worksheet 4: Trees-to-rules methods\n",
        "---\n"
      ]
    },
    {
      "cell_type": "markdown",
      "metadata": {
        "id": "oi-uOUkdCG79"
      },
      "source": [
        "---\n",
        "### What are trees-to-rules methods?\n",
        "\n",
        "InTrees is a model-specific XAI technique for explaining tree-ensemble models. For further information on the topic and definitions, we refer students to the lecture slides and recordings for the XAI technique (InTrees).\n",
        "\n",
        "---"
      ]
    },
    {
      "cell_type": "markdown",
      "metadata": {
        "id": "VszKEN0pEsvd"
      },
      "source": [
        "---\n",
        "\n",
        "### Today's problem\n",
        "\n",
        "\n",
        "The last notebook tutorial, we will look at methods which try to distill tree-based methods into sets of global rules that approximate how a given model behaves.\n",
        "\n",
        "The most popular method that allows us to do this is called [inTrees](https://arxiv.org/abs/1408.5456). However, its original code implementation has been written in R and alternative approaches, which improve on the method, do exist. One of them is a Bayesian framework created by Hara and Hayashi in 2018 (you can find their paper [here](http://proceedings.mlr.press/v84/hara18a.html), and the project's GitHub repo [here](https://github.com/sato9hara/defragTrees)) that we will work with in this notebook.\n",
        "\n",
        "This technique will be applied to a bank marketing dataset which you can find [here](https://archive.ics.uci.edu/ml/datasets/Bank+Marketing). We will use this information to create a classifier which will aim to predict whether a customer is going to subscribe to a new product introduced by a Portugese financial institution. As in the previous worksheets, we are facing a binary classification problem.\n",
        "\n",
        "The notebook will use a LGBM model which is currently often a go-to approach in industry applications of Machine Learning.\n",
        "\n",
        "---\n"
      ]
    },
    {
      "cell_type": "markdown",
      "metadata": {
        "id": "cdj7Eo4uGASL"
      },
      "source": [
        "## Example\n"
      ]
    },
    {
      "cell_type": "markdown",
      "metadata": {
        "id": "mz_QzWVSF6qh"
      },
      "source": [
        "### Importing libraries & data"
      ]
    },
    {
      "cell_type": "markdown",
      "metadata": {
        "id": "3HlYk5Ys0VRm"
      },
      "source": [
        "Again, as in the previous worksheets, we will need to install a package which is not by default in Google colab. However, this package cannot be installed with pip, as it has not been shared on PyPI. The easiest way to use the package is to simply clone the git repository where it is now."
      ]
    },
    {
      "cell_type": "code",
      "metadata": {
        "id": "qgMKSGPKYgGy",
        "colab": {
          "base_uri": "https://localhost:8080/"
        },
        "outputId": "b7f3bca4-60db-41e8-ca12-d532db71582c"
      },
      "source": [
        "!git clone https://github.com/sato9hara/defragTrees.git"
      ],
      "execution_count": 1,
      "outputs": [
        {
          "output_type": "stream",
          "name": "stdout",
          "text": [
            "Cloning into 'defragTrees'...\n",
            "remote: Enumerating objects: 2491, done.\u001b[K\n",
            "remote: Counting objects: 100% (3/3), done.\u001b[K\n",
            "remote: Compressing objects: 100% (3/3), done.\u001b[K\n",
            "remote: Total 2491 (delta 0), reused 0 (delta 0), pack-reused 2488\u001b[K\n",
            "Receiving objects: 100% (2491/2491), 35.57 MiB | 19.84 MiB/s, done.\n",
            "Resolving deltas: 100% (2158/2158), done.\n"
          ]
        }
      ]
    },
    {
      "cell_type": "code",
      "metadata": {
        "id": "VVAI23o7zczC"
      },
      "source": [
        "import pandas as pd\n",
        "import numpy as np\n",
        "import matplotlib.pyplot as plt\n",
        "import lightgbm as lgb\n",
        "from sklearn.metrics import classification_report, ConfusionMatrixDisplay, confusion_matrix, accuracy_score, matthews_corrcoef\n",
        "from sklearn.model_selection import StratifiedKFold, cross_validate, cross_val_score\n",
        "from defragTrees.defragTrees import DefragModel\n",
        "from hyperopt import hp, tpe\n",
        "from hyperopt import space_eval\n",
        "from hyperopt.fmin import fmin\n",
        "from imblearn.over_sampling import SMOTE\n",
        "from imblearn.under_sampling import RandomUnderSampler\n",
        "from imblearn.pipeline import Pipeline\n",
        "from sklearn.impute import SimpleImputer\n",
        "from sklearn.model_selection import train_test_split\n",
        "from sklearn.compose import ColumnTransformer\n",
        "import random\n",
        "random.seed(55)\n",
        "np.random.seed(55)"
      ],
      "execution_count": 2,
      "outputs": []
    },
    {
      "cell_type": "code",
      "metadata": {
        "id": "U9yU5Ye2fv7m",
        "colab": {
          "base_uri": "https://localhost:8080/"
        },
        "outputId": "a69d1ed0-cd24-4a7c-9d26-8546b4a7ef62"
      },
      "source": [
        "from google.colab import drive\n",
        "drive.mount('/content/drive')"
      ],
      "execution_count": 3,
      "outputs": [
        {
          "output_type": "stream",
          "name": "stdout",
          "text": [
            "Mounted at /content/drive\n"
          ]
        }
      ]
    },
    {
      "cell_type": "code",
      "metadata": {
        "id": "KIZEvL-KF-NB",
        "colab": {
          "base_uri": "https://localhost:8080/",
          "height": 443
        },
        "outputId": "e3e7127a-eb2d-4ae2-b7c1-8c81f4eb2097"
      },
      "source": [
        "df = pd.read_csv(\"/content/drive/My Drive/XAI-Worksheets/bank-additional-full.csv\", sep=';')\n",
        "df_col_used = df.columns.tolist()\n",
        "df"
      ],
      "execution_count": 4,
      "outputs": [
        {
          "output_type": "execute_result",
          "data": {
            "text/plain": [
              "       age          job  marital            education  default housing loan  \\\n",
              "0       56    housemaid  married             basic.4y       no      no   no   \n",
              "1       57     services  married          high.school  unknown      no   no   \n",
              "2       37     services  married          high.school       no     yes   no   \n",
              "3       40       admin.  married             basic.6y       no      no   no   \n",
              "4       56     services  married          high.school       no      no  yes   \n",
              "...    ...          ...      ...                  ...      ...     ...  ...   \n",
              "41183   73      retired  married  professional.course       no     yes   no   \n",
              "41184   46  blue-collar  married  professional.course       no      no   no   \n",
              "41185   56      retired  married    university.degree       no     yes   no   \n",
              "41186   44   technician  married  professional.course       no      no   no   \n",
              "41187   74      retired  married  professional.course       no     yes   no   \n",
              "\n",
              "         contact month day_of_week  ...  campaign  pdays  previous  \\\n",
              "0      telephone   may         mon  ...         1    999         0   \n",
              "1      telephone   may         mon  ...         1    999         0   \n",
              "2      telephone   may         mon  ...         1    999         0   \n",
              "3      telephone   may         mon  ...         1    999         0   \n",
              "4      telephone   may         mon  ...         1    999         0   \n",
              "...          ...   ...         ...  ...       ...    ...       ...   \n",
              "41183   cellular   nov         fri  ...         1    999         0   \n",
              "41184   cellular   nov         fri  ...         1    999         0   \n",
              "41185   cellular   nov         fri  ...         2    999         0   \n",
              "41186   cellular   nov         fri  ...         1    999         0   \n",
              "41187   cellular   nov         fri  ...         3    999         1   \n",
              "\n",
              "          poutcome emp.var.rate  cons.price.idx  cons.conf.idx  euribor3m  \\\n",
              "0      nonexistent          1.1          93.994          -36.4      4.857   \n",
              "1      nonexistent          1.1          93.994          -36.4      4.857   \n",
              "2      nonexistent          1.1          93.994          -36.4      4.857   \n",
              "3      nonexistent          1.1          93.994          -36.4      4.857   \n",
              "4      nonexistent          1.1          93.994          -36.4      4.857   \n",
              "...            ...          ...             ...            ...        ...   \n",
              "41183  nonexistent         -1.1          94.767          -50.8      1.028   \n",
              "41184  nonexistent         -1.1          94.767          -50.8      1.028   \n",
              "41185  nonexistent         -1.1          94.767          -50.8      1.028   \n",
              "41186  nonexistent         -1.1          94.767          -50.8      1.028   \n",
              "41187      failure         -1.1          94.767          -50.8      1.028   \n",
              "\n",
              "       nr.employed    y  \n",
              "0           5191.0   no  \n",
              "1           5191.0   no  \n",
              "2           5191.0   no  \n",
              "3           5191.0   no  \n",
              "4           5191.0   no  \n",
              "...            ...  ...  \n",
              "41183       4963.6  yes  \n",
              "41184       4963.6   no  \n",
              "41185       4963.6   no  \n",
              "41186       4963.6  yes  \n",
              "41187       4963.6   no  \n",
              "\n",
              "[41188 rows x 21 columns]"
            ],
            "text/html": [
              "\n",
              "  <div id=\"df-cbebf91f-0592-4545-9b4a-e82ec2d6c944\" class=\"colab-df-container\">\n",
              "    <div>\n",
              "<style scoped>\n",
              "    .dataframe tbody tr th:only-of-type {\n",
              "        vertical-align: middle;\n",
              "    }\n",
              "\n",
              "    .dataframe tbody tr th {\n",
              "        vertical-align: top;\n",
              "    }\n",
              "\n",
              "    .dataframe thead th {\n",
              "        text-align: right;\n",
              "    }\n",
              "</style>\n",
              "<table border=\"1\" class=\"dataframe\">\n",
              "  <thead>\n",
              "    <tr style=\"text-align: right;\">\n",
              "      <th></th>\n",
              "      <th>age</th>\n",
              "      <th>job</th>\n",
              "      <th>marital</th>\n",
              "      <th>education</th>\n",
              "      <th>default</th>\n",
              "      <th>housing</th>\n",
              "      <th>loan</th>\n",
              "      <th>contact</th>\n",
              "      <th>month</th>\n",
              "      <th>day_of_week</th>\n",
              "      <th>...</th>\n",
              "      <th>campaign</th>\n",
              "      <th>pdays</th>\n",
              "      <th>previous</th>\n",
              "      <th>poutcome</th>\n",
              "      <th>emp.var.rate</th>\n",
              "      <th>cons.price.idx</th>\n",
              "      <th>cons.conf.idx</th>\n",
              "      <th>euribor3m</th>\n",
              "      <th>nr.employed</th>\n",
              "      <th>y</th>\n",
              "    </tr>\n",
              "  </thead>\n",
              "  <tbody>\n",
              "    <tr>\n",
              "      <th>0</th>\n",
              "      <td>56</td>\n",
              "      <td>housemaid</td>\n",
              "      <td>married</td>\n",
              "      <td>basic.4y</td>\n",
              "      <td>no</td>\n",
              "      <td>no</td>\n",
              "      <td>no</td>\n",
              "      <td>telephone</td>\n",
              "      <td>may</td>\n",
              "      <td>mon</td>\n",
              "      <td>...</td>\n",
              "      <td>1</td>\n",
              "      <td>999</td>\n",
              "      <td>0</td>\n",
              "      <td>nonexistent</td>\n",
              "      <td>1.1</td>\n",
              "      <td>93.994</td>\n",
              "      <td>-36.4</td>\n",
              "      <td>4.857</td>\n",
              "      <td>5191.0</td>\n",
              "      <td>no</td>\n",
              "    </tr>\n",
              "    <tr>\n",
              "      <th>1</th>\n",
              "      <td>57</td>\n",
              "      <td>services</td>\n",
              "      <td>married</td>\n",
              "      <td>high.school</td>\n",
              "      <td>unknown</td>\n",
              "      <td>no</td>\n",
              "      <td>no</td>\n",
              "      <td>telephone</td>\n",
              "      <td>may</td>\n",
              "      <td>mon</td>\n",
              "      <td>...</td>\n",
              "      <td>1</td>\n",
              "      <td>999</td>\n",
              "      <td>0</td>\n",
              "      <td>nonexistent</td>\n",
              "      <td>1.1</td>\n",
              "      <td>93.994</td>\n",
              "      <td>-36.4</td>\n",
              "      <td>4.857</td>\n",
              "      <td>5191.0</td>\n",
              "      <td>no</td>\n",
              "    </tr>\n",
              "    <tr>\n",
              "      <th>2</th>\n",
              "      <td>37</td>\n",
              "      <td>services</td>\n",
              "      <td>married</td>\n",
              "      <td>high.school</td>\n",
              "      <td>no</td>\n",
              "      <td>yes</td>\n",
              "      <td>no</td>\n",
              "      <td>telephone</td>\n",
              "      <td>may</td>\n",
              "      <td>mon</td>\n",
              "      <td>...</td>\n",
              "      <td>1</td>\n",
              "      <td>999</td>\n",
              "      <td>0</td>\n",
              "      <td>nonexistent</td>\n",
              "      <td>1.1</td>\n",
              "      <td>93.994</td>\n",
              "      <td>-36.4</td>\n",
              "      <td>4.857</td>\n",
              "      <td>5191.0</td>\n",
              "      <td>no</td>\n",
              "    </tr>\n",
              "    <tr>\n",
              "      <th>3</th>\n",
              "      <td>40</td>\n",
              "      <td>admin.</td>\n",
              "      <td>married</td>\n",
              "      <td>basic.6y</td>\n",
              "      <td>no</td>\n",
              "      <td>no</td>\n",
              "      <td>no</td>\n",
              "      <td>telephone</td>\n",
              "      <td>may</td>\n",
              "      <td>mon</td>\n",
              "      <td>...</td>\n",
              "      <td>1</td>\n",
              "      <td>999</td>\n",
              "      <td>0</td>\n",
              "      <td>nonexistent</td>\n",
              "      <td>1.1</td>\n",
              "      <td>93.994</td>\n",
              "      <td>-36.4</td>\n",
              "      <td>4.857</td>\n",
              "      <td>5191.0</td>\n",
              "      <td>no</td>\n",
              "    </tr>\n",
              "    <tr>\n",
              "      <th>4</th>\n",
              "      <td>56</td>\n",
              "      <td>services</td>\n",
              "      <td>married</td>\n",
              "      <td>high.school</td>\n",
              "      <td>no</td>\n",
              "      <td>no</td>\n",
              "      <td>yes</td>\n",
              "      <td>telephone</td>\n",
              "      <td>may</td>\n",
              "      <td>mon</td>\n",
              "      <td>...</td>\n",
              "      <td>1</td>\n",
              "      <td>999</td>\n",
              "      <td>0</td>\n",
              "      <td>nonexistent</td>\n",
              "      <td>1.1</td>\n",
              "      <td>93.994</td>\n",
              "      <td>-36.4</td>\n",
              "      <td>4.857</td>\n",
              "      <td>5191.0</td>\n",
              "      <td>no</td>\n",
              "    </tr>\n",
              "    <tr>\n",
              "      <th>...</th>\n",
              "      <td>...</td>\n",
              "      <td>...</td>\n",
              "      <td>...</td>\n",
              "      <td>...</td>\n",
              "      <td>...</td>\n",
              "      <td>...</td>\n",
              "      <td>...</td>\n",
              "      <td>...</td>\n",
              "      <td>...</td>\n",
              "      <td>...</td>\n",
              "      <td>...</td>\n",
              "      <td>...</td>\n",
              "      <td>...</td>\n",
              "      <td>...</td>\n",
              "      <td>...</td>\n",
              "      <td>...</td>\n",
              "      <td>...</td>\n",
              "      <td>...</td>\n",
              "      <td>...</td>\n",
              "      <td>...</td>\n",
              "      <td>...</td>\n",
              "    </tr>\n",
              "    <tr>\n",
              "      <th>41183</th>\n",
              "      <td>73</td>\n",
              "      <td>retired</td>\n",
              "      <td>married</td>\n",
              "      <td>professional.course</td>\n",
              "      <td>no</td>\n",
              "      <td>yes</td>\n",
              "      <td>no</td>\n",
              "      <td>cellular</td>\n",
              "      <td>nov</td>\n",
              "      <td>fri</td>\n",
              "      <td>...</td>\n",
              "      <td>1</td>\n",
              "      <td>999</td>\n",
              "      <td>0</td>\n",
              "      <td>nonexistent</td>\n",
              "      <td>-1.1</td>\n",
              "      <td>94.767</td>\n",
              "      <td>-50.8</td>\n",
              "      <td>1.028</td>\n",
              "      <td>4963.6</td>\n",
              "      <td>yes</td>\n",
              "    </tr>\n",
              "    <tr>\n",
              "      <th>41184</th>\n",
              "      <td>46</td>\n",
              "      <td>blue-collar</td>\n",
              "      <td>married</td>\n",
              "      <td>professional.course</td>\n",
              "      <td>no</td>\n",
              "      <td>no</td>\n",
              "      <td>no</td>\n",
              "      <td>cellular</td>\n",
              "      <td>nov</td>\n",
              "      <td>fri</td>\n",
              "      <td>...</td>\n",
              "      <td>1</td>\n",
              "      <td>999</td>\n",
              "      <td>0</td>\n",
              "      <td>nonexistent</td>\n",
              "      <td>-1.1</td>\n",
              "      <td>94.767</td>\n",
              "      <td>-50.8</td>\n",
              "      <td>1.028</td>\n",
              "      <td>4963.6</td>\n",
              "      <td>no</td>\n",
              "    </tr>\n",
              "    <tr>\n",
              "      <th>41185</th>\n",
              "      <td>56</td>\n",
              "      <td>retired</td>\n",
              "      <td>married</td>\n",
              "      <td>university.degree</td>\n",
              "      <td>no</td>\n",
              "      <td>yes</td>\n",
              "      <td>no</td>\n",
              "      <td>cellular</td>\n",
              "      <td>nov</td>\n",
              "      <td>fri</td>\n",
              "      <td>...</td>\n",
              "      <td>2</td>\n",
              "      <td>999</td>\n",
              "      <td>0</td>\n",
              "      <td>nonexistent</td>\n",
              "      <td>-1.1</td>\n",
              "      <td>94.767</td>\n",
              "      <td>-50.8</td>\n",
              "      <td>1.028</td>\n",
              "      <td>4963.6</td>\n",
              "      <td>no</td>\n",
              "    </tr>\n",
              "    <tr>\n",
              "      <th>41186</th>\n",
              "      <td>44</td>\n",
              "      <td>technician</td>\n",
              "      <td>married</td>\n",
              "      <td>professional.course</td>\n",
              "      <td>no</td>\n",
              "      <td>no</td>\n",
              "      <td>no</td>\n",
              "      <td>cellular</td>\n",
              "      <td>nov</td>\n",
              "      <td>fri</td>\n",
              "      <td>...</td>\n",
              "      <td>1</td>\n",
              "      <td>999</td>\n",
              "      <td>0</td>\n",
              "      <td>nonexistent</td>\n",
              "      <td>-1.1</td>\n",
              "      <td>94.767</td>\n",
              "      <td>-50.8</td>\n",
              "      <td>1.028</td>\n",
              "      <td>4963.6</td>\n",
              "      <td>yes</td>\n",
              "    </tr>\n",
              "    <tr>\n",
              "      <th>41187</th>\n",
              "      <td>74</td>\n",
              "      <td>retired</td>\n",
              "      <td>married</td>\n",
              "      <td>professional.course</td>\n",
              "      <td>no</td>\n",
              "      <td>yes</td>\n",
              "      <td>no</td>\n",
              "      <td>cellular</td>\n",
              "      <td>nov</td>\n",
              "      <td>fri</td>\n",
              "      <td>...</td>\n",
              "      <td>3</td>\n",
              "      <td>999</td>\n",
              "      <td>1</td>\n",
              "      <td>failure</td>\n",
              "      <td>-1.1</td>\n",
              "      <td>94.767</td>\n",
              "      <td>-50.8</td>\n",
              "      <td>1.028</td>\n",
              "      <td>4963.6</td>\n",
              "      <td>no</td>\n",
              "    </tr>\n",
              "  </tbody>\n",
              "</table>\n",
              "<p>41188 rows × 21 columns</p>\n",
              "</div>\n",
              "    <div class=\"colab-df-buttons\">\n",
              "\n",
              "  <div class=\"colab-df-container\">\n",
              "    <button class=\"colab-df-convert\" onclick=\"convertToInteractive('df-cbebf91f-0592-4545-9b4a-e82ec2d6c944')\"\n",
              "            title=\"Convert this dataframe to an interactive table.\"\n",
              "            style=\"display:none;\">\n",
              "\n",
              "  <svg xmlns=\"http://www.w3.org/2000/svg\" height=\"24px\" viewBox=\"0 -960 960 960\">\n",
              "    <path d=\"M120-120v-720h720v720H120Zm60-500h600v-160H180v160Zm220 220h160v-160H400v160Zm0 220h160v-160H400v160ZM180-400h160v-160H180v160Zm440 0h160v-160H620v160ZM180-180h160v-160H180v160Zm440 0h160v-160H620v160Z\"/>\n",
              "  </svg>\n",
              "    </button>\n",
              "\n",
              "  <style>\n",
              "    .colab-df-container {\n",
              "      display:flex;\n",
              "      gap: 12px;\n",
              "    }\n",
              "\n",
              "    .colab-df-convert {\n",
              "      background-color: #E8F0FE;\n",
              "      border: none;\n",
              "      border-radius: 50%;\n",
              "      cursor: pointer;\n",
              "      display: none;\n",
              "      fill: #1967D2;\n",
              "      height: 32px;\n",
              "      padding: 0 0 0 0;\n",
              "      width: 32px;\n",
              "    }\n",
              "\n",
              "    .colab-df-convert:hover {\n",
              "      background-color: #E2EBFA;\n",
              "      box-shadow: 0px 1px 2px rgba(60, 64, 67, 0.3), 0px 1px 3px 1px rgba(60, 64, 67, 0.15);\n",
              "      fill: #174EA6;\n",
              "    }\n",
              "\n",
              "    .colab-df-buttons div {\n",
              "      margin-bottom: 4px;\n",
              "    }\n",
              "\n",
              "    [theme=dark] .colab-df-convert {\n",
              "      background-color: #3B4455;\n",
              "      fill: #D2E3FC;\n",
              "    }\n",
              "\n",
              "    [theme=dark] .colab-df-convert:hover {\n",
              "      background-color: #434B5C;\n",
              "      box-shadow: 0px 1px 3px 1px rgba(0, 0, 0, 0.15);\n",
              "      filter: drop-shadow(0px 1px 2px rgba(0, 0, 0, 0.3));\n",
              "      fill: #FFFFFF;\n",
              "    }\n",
              "  </style>\n",
              "\n",
              "    <script>\n",
              "      const buttonEl =\n",
              "        document.querySelector('#df-cbebf91f-0592-4545-9b4a-e82ec2d6c944 button.colab-df-convert');\n",
              "      buttonEl.style.display =\n",
              "        google.colab.kernel.accessAllowed ? 'block' : 'none';\n",
              "\n",
              "      async function convertToInteractive(key) {\n",
              "        const element = document.querySelector('#df-cbebf91f-0592-4545-9b4a-e82ec2d6c944');\n",
              "        const dataTable =\n",
              "          await google.colab.kernel.invokeFunction('convertToInteractive',\n",
              "                                                    [key], {});\n",
              "        if (!dataTable) return;\n",
              "\n",
              "        const docLinkHtml = 'Like what you see? Visit the ' +\n",
              "          '<a target=\"_blank\" href=https://colab.research.google.com/notebooks/data_table.ipynb>data table notebook</a>'\n",
              "          + ' to learn more about interactive tables.';\n",
              "        element.innerHTML = '';\n",
              "        dataTable['output_type'] = 'display_data';\n",
              "        await google.colab.output.renderOutput(dataTable, element);\n",
              "        const docLink = document.createElement('div');\n",
              "        docLink.innerHTML = docLinkHtml;\n",
              "        element.appendChild(docLink);\n",
              "      }\n",
              "    </script>\n",
              "  </div>\n",
              "\n",
              "\n",
              "<div id=\"df-ce287351-45e6-40ea-aafe-5f47c8fa6433\">\n",
              "  <button class=\"colab-df-quickchart\" onclick=\"quickchart('df-ce287351-45e6-40ea-aafe-5f47c8fa6433')\"\n",
              "            title=\"Suggest charts\"\n",
              "            style=\"display:none;\">\n",
              "\n",
              "<svg xmlns=\"http://www.w3.org/2000/svg\" height=\"24px\"viewBox=\"0 0 24 24\"\n",
              "     width=\"24px\">\n",
              "    <g>\n",
              "        <path d=\"M19 3H5c-1.1 0-2 .9-2 2v14c0 1.1.9 2 2 2h14c1.1 0 2-.9 2-2V5c0-1.1-.9-2-2-2zM9 17H7v-7h2v7zm4 0h-2V7h2v10zm4 0h-2v-4h2v4z\"/>\n",
              "    </g>\n",
              "</svg>\n",
              "  </button>\n",
              "\n",
              "<style>\n",
              "  .colab-df-quickchart {\n",
              "      --bg-color: #E8F0FE;\n",
              "      --fill-color: #1967D2;\n",
              "      --hover-bg-color: #E2EBFA;\n",
              "      --hover-fill-color: #174EA6;\n",
              "      --disabled-fill-color: #AAA;\n",
              "      --disabled-bg-color: #DDD;\n",
              "  }\n",
              "\n",
              "  [theme=dark] .colab-df-quickchart {\n",
              "      --bg-color: #3B4455;\n",
              "      --fill-color: #D2E3FC;\n",
              "      --hover-bg-color: #434B5C;\n",
              "      --hover-fill-color: #FFFFFF;\n",
              "      --disabled-bg-color: #3B4455;\n",
              "      --disabled-fill-color: #666;\n",
              "  }\n",
              "\n",
              "  .colab-df-quickchart {\n",
              "    background-color: var(--bg-color);\n",
              "    border: none;\n",
              "    border-radius: 50%;\n",
              "    cursor: pointer;\n",
              "    display: none;\n",
              "    fill: var(--fill-color);\n",
              "    height: 32px;\n",
              "    padding: 0;\n",
              "    width: 32px;\n",
              "  }\n",
              "\n",
              "  .colab-df-quickchart:hover {\n",
              "    background-color: var(--hover-bg-color);\n",
              "    box-shadow: 0 1px 2px rgba(60, 64, 67, 0.3), 0 1px 3px 1px rgba(60, 64, 67, 0.15);\n",
              "    fill: var(--button-hover-fill-color);\n",
              "  }\n",
              "\n",
              "  .colab-df-quickchart-complete:disabled,\n",
              "  .colab-df-quickchart-complete:disabled:hover {\n",
              "    background-color: var(--disabled-bg-color);\n",
              "    fill: var(--disabled-fill-color);\n",
              "    box-shadow: none;\n",
              "  }\n",
              "\n",
              "  .colab-df-spinner {\n",
              "    border: 2px solid var(--fill-color);\n",
              "    border-color: transparent;\n",
              "    border-bottom-color: var(--fill-color);\n",
              "    animation:\n",
              "      spin 1s steps(1) infinite;\n",
              "  }\n",
              "\n",
              "  @keyframes spin {\n",
              "    0% {\n",
              "      border-color: transparent;\n",
              "      border-bottom-color: var(--fill-color);\n",
              "      border-left-color: var(--fill-color);\n",
              "    }\n",
              "    20% {\n",
              "      border-color: transparent;\n",
              "      border-left-color: var(--fill-color);\n",
              "      border-top-color: var(--fill-color);\n",
              "    }\n",
              "    30% {\n",
              "      border-color: transparent;\n",
              "      border-left-color: var(--fill-color);\n",
              "      border-top-color: var(--fill-color);\n",
              "      border-right-color: var(--fill-color);\n",
              "    }\n",
              "    40% {\n",
              "      border-color: transparent;\n",
              "      border-right-color: var(--fill-color);\n",
              "      border-top-color: var(--fill-color);\n",
              "    }\n",
              "    60% {\n",
              "      border-color: transparent;\n",
              "      border-right-color: var(--fill-color);\n",
              "    }\n",
              "    80% {\n",
              "      border-color: transparent;\n",
              "      border-right-color: var(--fill-color);\n",
              "      border-bottom-color: var(--fill-color);\n",
              "    }\n",
              "    90% {\n",
              "      border-color: transparent;\n",
              "      border-bottom-color: var(--fill-color);\n",
              "    }\n",
              "  }\n",
              "</style>\n",
              "\n",
              "  <script>\n",
              "    async function quickchart(key) {\n",
              "      const quickchartButtonEl =\n",
              "        document.querySelector('#' + key + ' button');\n",
              "      quickchartButtonEl.disabled = true;  // To prevent multiple clicks.\n",
              "      quickchartButtonEl.classList.add('colab-df-spinner');\n",
              "      try {\n",
              "        const charts = await google.colab.kernel.invokeFunction(\n",
              "            'suggestCharts', [key], {});\n",
              "      } catch (error) {\n",
              "        console.error('Error during call to suggestCharts:', error);\n",
              "      }\n",
              "      quickchartButtonEl.classList.remove('colab-df-spinner');\n",
              "      quickchartButtonEl.classList.add('colab-df-quickchart-complete');\n",
              "    }\n",
              "    (() => {\n",
              "      let quickchartButtonEl =\n",
              "        document.querySelector('#df-ce287351-45e6-40ea-aafe-5f47c8fa6433 button');\n",
              "      quickchartButtonEl.style.display =\n",
              "        google.colab.kernel.accessAllowed ? 'block' : 'none';\n",
              "    })();\n",
              "  </script>\n",
              "</div>\n",
              "    </div>\n",
              "  </div>\n"
            ]
          },
          "metadata": {},
          "execution_count": 4
        }
      ]
    },
    {
      "cell_type": "markdown",
      "metadata": {
        "id": "WpQd-2LO4W9t"
      },
      "source": [
        "### Data processing\n",
        "\n",
        "Below, we will take the following steps, which you are used to by now.\n",
        "\n",
        "*   Visually checking what we have in the DataFrame\n",
        "*   Assessing and treating potential missingness\n",
        "*   Creating new labels\n",
        "*   Feature engineering new attributes\n",
        "*   Dropping irrelevant columns\n",
        "\n",
        "\n",
        "\n"
      ]
    },
    {
      "cell_type": "code",
      "metadata": {
        "id": "J9q55QTXWAL8",
        "colab": {
          "base_uri": "https://localhost:8080/",
          "height": 255
        },
        "outputId": "486f3c47-fce0-4335-c470-f66d5f7328e9"
      },
      "source": [
        "df.head()"
      ],
      "execution_count": 5,
      "outputs": [
        {
          "output_type": "execute_result",
          "data": {
            "text/plain": [
              "   age        job  marital    education  default housing loan    contact  \\\n",
              "0   56  housemaid  married     basic.4y       no      no   no  telephone   \n",
              "1   57   services  married  high.school  unknown      no   no  telephone   \n",
              "2   37   services  married  high.school       no     yes   no  telephone   \n",
              "3   40     admin.  married     basic.6y       no      no   no  telephone   \n",
              "4   56   services  married  high.school       no      no  yes  telephone   \n",
              "\n",
              "  month day_of_week  ...  campaign  pdays  previous     poutcome emp.var.rate  \\\n",
              "0   may         mon  ...         1    999         0  nonexistent          1.1   \n",
              "1   may         mon  ...         1    999         0  nonexistent          1.1   \n",
              "2   may         mon  ...         1    999         0  nonexistent          1.1   \n",
              "3   may         mon  ...         1    999         0  nonexistent          1.1   \n",
              "4   may         mon  ...         1    999         0  nonexistent          1.1   \n",
              "\n",
              "   cons.price.idx  cons.conf.idx  euribor3m  nr.employed   y  \n",
              "0          93.994          -36.4      4.857       5191.0  no  \n",
              "1          93.994          -36.4      4.857       5191.0  no  \n",
              "2          93.994          -36.4      4.857       5191.0  no  \n",
              "3          93.994          -36.4      4.857       5191.0  no  \n",
              "4          93.994          -36.4      4.857       5191.0  no  \n",
              "\n",
              "[5 rows x 21 columns]"
            ],
            "text/html": [
              "\n",
              "  <div id=\"df-f07c0c3a-c79f-4a22-b4f1-f0a07db1be3f\" class=\"colab-df-container\">\n",
              "    <div>\n",
              "<style scoped>\n",
              "    .dataframe tbody tr th:only-of-type {\n",
              "        vertical-align: middle;\n",
              "    }\n",
              "\n",
              "    .dataframe tbody tr th {\n",
              "        vertical-align: top;\n",
              "    }\n",
              "\n",
              "    .dataframe thead th {\n",
              "        text-align: right;\n",
              "    }\n",
              "</style>\n",
              "<table border=\"1\" class=\"dataframe\">\n",
              "  <thead>\n",
              "    <tr style=\"text-align: right;\">\n",
              "      <th></th>\n",
              "      <th>age</th>\n",
              "      <th>job</th>\n",
              "      <th>marital</th>\n",
              "      <th>education</th>\n",
              "      <th>default</th>\n",
              "      <th>housing</th>\n",
              "      <th>loan</th>\n",
              "      <th>contact</th>\n",
              "      <th>month</th>\n",
              "      <th>day_of_week</th>\n",
              "      <th>...</th>\n",
              "      <th>campaign</th>\n",
              "      <th>pdays</th>\n",
              "      <th>previous</th>\n",
              "      <th>poutcome</th>\n",
              "      <th>emp.var.rate</th>\n",
              "      <th>cons.price.idx</th>\n",
              "      <th>cons.conf.idx</th>\n",
              "      <th>euribor3m</th>\n",
              "      <th>nr.employed</th>\n",
              "      <th>y</th>\n",
              "    </tr>\n",
              "  </thead>\n",
              "  <tbody>\n",
              "    <tr>\n",
              "      <th>0</th>\n",
              "      <td>56</td>\n",
              "      <td>housemaid</td>\n",
              "      <td>married</td>\n",
              "      <td>basic.4y</td>\n",
              "      <td>no</td>\n",
              "      <td>no</td>\n",
              "      <td>no</td>\n",
              "      <td>telephone</td>\n",
              "      <td>may</td>\n",
              "      <td>mon</td>\n",
              "      <td>...</td>\n",
              "      <td>1</td>\n",
              "      <td>999</td>\n",
              "      <td>0</td>\n",
              "      <td>nonexistent</td>\n",
              "      <td>1.1</td>\n",
              "      <td>93.994</td>\n",
              "      <td>-36.4</td>\n",
              "      <td>4.857</td>\n",
              "      <td>5191.0</td>\n",
              "      <td>no</td>\n",
              "    </tr>\n",
              "    <tr>\n",
              "      <th>1</th>\n",
              "      <td>57</td>\n",
              "      <td>services</td>\n",
              "      <td>married</td>\n",
              "      <td>high.school</td>\n",
              "      <td>unknown</td>\n",
              "      <td>no</td>\n",
              "      <td>no</td>\n",
              "      <td>telephone</td>\n",
              "      <td>may</td>\n",
              "      <td>mon</td>\n",
              "      <td>...</td>\n",
              "      <td>1</td>\n",
              "      <td>999</td>\n",
              "      <td>0</td>\n",
              "      <td>nonexistent</td>\n",
              "      <td>1.1</td>\n",
              "      <td>93.994</td>\n",
              "      <td>-36.4</td>\n",
              "      <td>4.857</td>\n",
              "      <td>5191.0</td>\n",
              "      <td>no</td>\n",
              "    </tr>\n",
              "    <tr>\n",
              "      <th>2</th>\n",
              "      <td>37</td>\n",
              "      <td>services</td>\n",
              "      <td>married</td>\n",
              "      <td>high.school</td>\n",
              "      <td>no</td>\n",
              "      <td>yes</td>\n",
              "      <td>no</td>\n",
              "      <td>telephone</td>\n",
              "      <td>may</td>\n",
              "      <td>mon</td>\n",
              "      <td>...</td>\n",
              "      <td>1</td>\n",
              "      <td>999</td>\n",
              "      <td>0</td>\n",
              "      <td>nonexistent</td>\n",
              "      <td>1.1</td>\n",
              "      <td>93.994</td>\n",
              "      <td>-36.4</td>\n",
              "      <td>4.857</td>\n",
              "      <td>5191.0</td>\n",
              "      <td>no</td>\n",
              "    </tr>\n",
              "    <tr>\n",
              "      <th>3</th>\n",
              "      <td>40</td>\n",
              "      <td>admin.</td>\n",
              "      <td>married</td>\n",
              "      <td>basic.6y</td>\n",
              "      <td>no</td>\n",
              "      <td>no</td>\n",
              "      <td>no</td>\n",
              "      <td>telephone</td>\n",
              "      <td>may</td>\n",
              "      <td>mon</td>\n",
              "      <td>...</td>\n",
              "      <td>1</td>\n",
              "      <td>999</td>\n",
              "      <td>0</td>\n",
              "      <td>nonexistent</td>\n",
              "      <td>1.1</td>\n",
              "      <td>93.994</td>\n",
              "      <td>-36.4</td>\n",
              "      <td>4.857</td>\n",
              "      <td>5191.0</td>\n",
              "      <td>no</td>\n",
              "    </tr>\n",
              "    <tr>\n",
              "      <th>4</th>\n",
              "      <td>56</td>\n",
              "      <td>services</td>\n",
              "      <td>married</td>\n",
              "      <td>high.school</td>\n",
              "      <td>no</td>\n",
              "      <td>no</td>\n",
              "      <td>yes</td>\n",
              "      <td>telephone</td>\n",
              "      <td>may</td>\n",
              "      <td>mon</td>\n",
              "      <td>...</td>\n",
              "      <td>1</td>\n",
              "      <td>999</td>\n",
              "      <td>0</td>\n",
              "      <td>nonexistent</td>\n",
              "      <td>1.1</td>\n",
              "      <td>93.994</td>\n",
              "      <td>-36.4</td>\n",
              "      <td>4.857</td>\n",
              "      <td>5191.0</td>\n",
              "      <td>no</td>\n",
              "    </tr>\n",
              "  </tbody>\n",
              "</table>\n",
              "<p>5 rows × 21 columns</p>\n",
              "</div>\n",
              "    <div class=\"colab-df-buttons\">\n",
              "\n",
              "  <div class=\"colab-df-container\">\n",
              "    <button class=\"colab-df-convert\" onclick=\"convertToInteractive('df-f07c0c3a-c79f-4a22-b4f1-f0a07db1be3f')\"\n",
              "            title=\"Convert this dataframe to an interactive table.\"\n",
              "            style=\"display:none;\">\n",
              "\n",
              "  <svg xmlns=\"http://www.w3.org/2000/svg\" height=\"24px\" viewBox=\"0 -960 960 960\">\n",
              "    <path d=\"M120-120v-720h720v720H120Zm60-500h600v-160H180v160Zm220 220h160v-160H400v160Zm0 220h160v-160H400v160ZM180-400h160v-160H180v160Zm440 0h160v-160H620v160ZM180-180h160v-160H180v160Zm440 0h160v-160H620v160Z\"/>\n",
              "  </svg>\n",
              "    </button>\n",
              "\n",
              "  <style>\n",
              "    .colab-df-container {\n",
              "      display:flex;\n",
              "      gap: 12px;\n",
              "    }\n",
              "\n",
              "    .colab-df-convert {\n",
              "      background-color: #E8F0FE;\n",
              "      border: none;\n",
              "      border-radius: 50%;\n",
              "      cursor: pointer;\n",
              "      display: none;\n",
              "      fill: #1967D2;\n",
              "      height: 32px;\n",
              "      padding: 0 0 0 0;\n",
              "      width: 32px;\n",
              "    }\n",
              "\n",
              "    .colab-df-convert:hover {\n",
              "      background-color: #E2EBFA;\n",
              "      box-shadow: 0px 1px 2px rgba(60, 64, 67, 0.3), 0px 1px 3px 1px rgba(60, 64, 67, 0.15);\n",
              "      fill: #174EA6;\n",
              "    }\n",
              "\n",
              "    .colab-df-buttons div {\n",
              "      margin-bottom: 4px;\n",
              "    }\n",
              "\n",
              "    [theme=dark] .colab-df-convert {\n",
              "      background-color: #3B4455;\n",
              "      fill: #D2E3FC;\n",
              "    }\n",
              "\n",
              "    [theme=dark] .colab-df-convert:hover {\n",
              "      background-color: #434B5C;\n",
              "      box-shadow: 0px 1px 3px 1px rgba(0, 0, 0, 0.15);\n",
              "      filter: drop-shadow(0px 1px 2px rgba(0, 0, 0, 0.3));\n",
              "      fill: #FFFFFF;\n",
              "    }\n",
              "  </style>\n",
              "\n",
              "    <script>\n",
              "      const buttonEl =\n",
              "        document.querySelector('#df-f07c0c3a-c79f-4a22-b4f1-f0a07db1be3f button.colab-df-convert');\n",
              "      buttonEl.style.display =\n",
              "        google.colab.kernel.accessAllowed ? 'block' : 'none';\n",
              "\n",
              "      async function convertToInteractive(key) {\n",
              "        const element = document.querySelector('#df-f07c0c3a-c79f-4a22-b4f1-f0a07db1be3f');\n",
              "        const dataTable =\n",
              "          await google.colab.kernel.invokeFunction('convertToInteractive',\n",
              "                                                    [key], {});\n",
              "        if (!dataTable) return;\n",
              "\n",
              "        const docLinkHtml = 'Like what you see? Visit the ' +\n",
              "          '<a target=\"_blank\" href=https://colab.research.google.com/notebooks/data_table.ipynb>data table notebook</a>'\n",
              "          + ' to learn more about interactive tables.';\n",
              "        element.innerHTML = '';\n",
              "        dataTable['output_type'] = 'display_data';\n",
              "        await google.colab.output.renderOutput(dataTable, element);\n",
              "        const docLink = document.createElement('div');\n",
              "        docLink.innerHTML = docLinkHtml;\n",
              "        element.appendChild(docLink);\n",
              "      }\n",
              "    </script>\n",
              "  </div>\n",
              "\n",
              "\n",
              "<div id=\"df-d80fb125-a444-4ff6-b2d6-c35d72ed52fb\">\n",
              "  <button class=\"colab-df-quickchart\" onclick=\"quickchart('df-d80fb125-a444-4ff6-b2d6-c35d72ed52fb')\"\n",
              "            title=\"Suggest charts\"\n",
              "            style=\"display:none;\">\n",
              "\n",
              "<svg xmlns=\"http://www.w3.org/2000/svg\" height=\"24px\"viewBox=\"0 0 24 24\"\n",
              "     width=\"24px\">\n",
              "    <g>\n",
              "        <path d=\"M19 3H5c-1.1 0-2 .9-2 2v14c0 1.1.9 2 2 2h14c1.1 0 2-.9 2-2V5c0-1.1-.9-2-2-2zM9 17H7v-7h2v7zm4 0h-2V7h2v10zm4 0h-2v-4h2v4z\"/>\n",
              "    </g>\n",
              "</svg>\n",
              "  </button>\n",
              "\n",
              "<style>\n",
              "  .colab-df-quickchart {\n",
              "      --bg-color: #E8F0FE;\n",
              "      --fill-color: #1967D2;\n",
              "      --hover-bg-color: #E2EBFA;\n",
              "      --hover-fill-color: #174EA6;\n",
              "      --disabled-fill-color: #AAA;\n",
              "      --disabled-bg-color: #DDD;\n",
              "  }\n",
              "\n",
              "  [theme=dark] .colab-df-quickchart {\n",
              "      --bg-color: #3B4455;\n",
              "      --fill-color: #D2E3FC;\n",
              "      --hover-bg-color: #434B5C;\n",
              "      --hover-fill-color: #FFFFFF;\n",
              "      --disabled-bg-color: #3B4455;\n",
              "      --disabled-fill-color: #666;\n",
              "  }\n",
              "\n",
              "  .colab-df-quickchart {\n",
              "    background-color: var(--bg-color);\n",
              "    border: none;\n",
              "    border-radius: 50%;\n",
              "    cursor: pointer;\n",
              "    display: none;\n",
              "    fill: var(--fill-color);\n",
              "    height: 32px;\n",
              "    padding: 0;\n",
              "    width: 32px;\n",
              "  }\n",
              "\n",
              "  .colab-df-quickchart:hover {\n",
              "    background-color: var(--hover-bg-color);\n",
              "    box-shadow: 0 1px 2px rgba(60, 64, 67, 0.3), 0 1px 3px 1px rgba(60, 64, 67, 0.15);\n",
              "    fill: var(--button-hover-fill-color);\n",
              "  }\n",
              "\n",
              "  .colab-df-quickchart-complete:disabled,\n",
              "  .colab-df-quickchart-complete:disabled:hover {\n",
              "    background-color: var(--disabled-bg-color);\n",
              "    fill: var(--disabled-fill-color);\n",
              "    box-shadow: none;\n",
              "  }\n",
              "\n",
              "  .colab-df-spinner {\n",
              "    border: 2px solid var(--fill-color);\n",
              "    border-color: transparent;\n",
              "    border-bottom-color: var(--fill-color);\n",
              "    animation:\n",
              "      spin 1s steps(1) infinite;\n",
              "  }\n",
              "\n",
              "  @keyframes spin {\n",
              "    0% {\n",
              "      border-color: transparent;\n",
              "      border-bottom-color: var(--fill-color);\n",
              "      border-left-color: var(--fill-color);\n",
              "    }\n",
              "    20% {\n",
              "      border-color: transparent;\n",
              "      border-left-color: var(--fill-color);\n",
              "      border-top-color: var(--fill-color);\n",
              "    }\n",
              "    30% {\n",
              "      border-color: transparent;\n",
              "      border-left-color: var(--fill-color);\n",
              "      border-top-color: var(--fill-color);\n",
              "      border-right-color: var(--fill-color);\n",
              "    }\n",
              "    40% {\n",
              "      border-color: transparent;\n",
              "      border-right-color: var(--fill-color);\n",
              "      border-top-color: var(--fill-color);\n",
              "    }\n",
              "    60% {\n",
              "      border-color: transparent;\n",
              "      border-right-color: var(--fill-color);\n",
              "    }\n",
              "    80% {\n",
              "      border-color: transparent;\n",
              "      border-right-color: var(--fill-color);\n",
              "      border-bottom-color: var(--fill-color);\n",
              "    }\n",
              "    90% {\n",
              "      border-color: transparent;\n",
              "      border-bottom-color: var(--fill-color);\n",
              "    }\n",
              "  }\n",
              "</style>\n",
              "\n",
              "  <script>\n",
              "    async function quickchart(key) {\n",
              "      const quickchartButtonEl =\n",
              "        document.querySelector('#' + key + ' button');\n",
              "      quickchartButtonEl.disabled = true;  // To prevent multiple clicks.\n",
              "      quickchartButtonEl.classList.add('colab-df-spinner');\n",
              "      try {\n",
              "        const charts = await google.colab.kernel.invokeFunction(\n",
              "            'suggestCharts', [key], {});\n",
              "      } catch (error) {\n",
              "        console.error('Error during call to suggestCharts:', error);\n",
              "      }\n",
              "      quickchartButtonEl.classList.remove('colab-df-spinner');\n",
              "      quickchartButtonEl.classList.add('colab-df-quickchart-complete');\n",
              "    }\n",
              "    (() => {\n",
              "      let quickchartButtonEl =\n",
              "        document.querySelector('#df-d80fb125-a444-4ff6-b2d6-c35d72ed52fb button');\n",
              "      quickchartButtonEl.style.display =\n",
              "        google.colab.kernel.accessAllowed ? 'block' : 'none';\n",
              "    })();\n",
              "  </script>\n",
              "</div>\n",
              "    </div>\n",
              "  </div>\n"
            ]
          },
          "metadata": {},
          "execution_count": 5
        }
      ]
    },
    {
      "cell_type": "code",
      "metadata": {
        "id": "-PioXSAo7QHP",
        "colab": {
          "base_uri": "https://localhost:8080/"
        },
        "outputId": "575793cd-b5e2-4046-af00-f18b2c7ee542"
      },
      "source": [
        "df_col_used"
      ],
      "execution_count": 6,
      "outputs": [
        {
          "output_type": "execute_result",
          "data": {
            "text/plain": [
              "['age',\n",
              " 'job',\n",
              " 'marital',\n",
              " 'education',\n",
              " 'default',\n",
              " 'housing',\n",
              " 'loan',\n",
              " 'contact',\n",
              " 'month',\n",
              " 'day_of_week',\n",
              " 'duration',\n",
              " 'campaign',\n",
              " 'pdays',\n",
              " 'previous',\n",
              " 'poutcome',\n",
              " 'emp.var.rate',\n",
              " 'cons.price.idx',\n",
              " 'cons.conf.idx',\n",
              " 'euribor3m',\n",
              " 'nr.employed',\n",
              " 'y']"
            ]
          },
          "metadata": {},
          "execution_count": 6
        }
      ]
    },
    {
      "cell_type": "code",
      "metadata": {
        "id": "zm5QubUQYJt8",
        "colab": {
          "base_uri": "https://localhost:8080/"
        },
        "outputId": "934007b1-28d8-4219-bb96-62eda69c4279"
      },
      "source": [
        "df.info()"
      ],
      "execution_count": 7,
      "outputs": [
        {
          "output_type": "stream",
          "name": "stdout",
          "text": [
            "<class 'pandas.core.frame.DataFrame'>\n",
            "RangeIndex: 41188 entries, 0 to 41187\n",
            "Data columns (total 21 columns):\n",
            " #   Column          Non-Null Count  Dtype  \n",
            "---  ------          --------------  -----  \n",
            " 0   age             41188 non-null  int64  \n",
            " 1   job             41188 non-null  object \n",
            " 2   marital         41188 non-null  object \n",
            " 3   education       41188 non-null  object \n",
            " 4   default         41188 non-null  object \n",
            " 5   housing         41188 non-null  object \n",
            " 6   loan            41188 non-null  object \n",
            " 7   contact         41188 non-null  object \n",
            " 8   month           41188 non-null  object \n",
            " 9   day_of_week     41188 non-null  object \n",
            " 10  duration        41188 non-null  int64  \n",
            " 11  campaign        41188 non-null  int64  \n",
            " 12  pdays           41188 non-null  int64  \n",
            " 13  previous        41188 non-null  int64  \n",
            " 14  poutcome        41188 non-null  object \n",
            " 15  emp.var.rate    41188 non-null  float64\n",
            " 16  cons.price.idx  41188 non-null  float64\n",
            " 17  cons.conf.idx   41188 non-null  float64\n",
            " 18  euribor3m       41188 non-null  float64\n",
            " 19  nr.employed     41188 non-null  float64\n",
            " 20  y               41188 non-null  object \n",
            "dtypes: float64(5), int64(5), object(11)\n",
            "memory usage: 6.6+ MB\n"
          ]
        }
      ]
    },
    {
      "cell_type": "markdown",
      "metadata": {
        "id": "yDvP12SLavH_"
      },
      "source": [
        "It may seem like we have no missing values here. However, if you check the previous call of `df.head()`, you can see that all missing values have been encoded as \"unknown\" across rows. Hence, they are interpreted as actual words/categories in the DataFrame. We should keep this in mind and reflect this in the table.\n",
        "\n",
        "If we look at the dtypes inferred when importing the data, they are aligned with what the data descriptions said.\n",
        "\n",
        "Let's focus on fixing the issue with encoding our missing values first, by transforming `unknown` values into `np.nan` values."
      ]
    },
    {
      "cell_type": "code",
      "metadata": {
        "id": "Lbn_L5Q5pGW8"
      },
      "source": [
        "for col in df_col_used:\n",
        "  df.loc[:, col] = [x if x != \"unknown\" else np.nan for x in df[col]]"
      ],
      "execution_count": 8,
      "outputs": []
    },
    {
      "cell_type": "markdown",
      "metadata": {
        "id": "THavKCoh1nfk"
      },
      "source": [
        "Let's check the effects of this operation."
      ]
    },
    {
      "cell_type": "code",
      "metadata": {
        "id": "Gc0q5GM71s2k",
        "colab": {
          "base_uri": "https://localhost:8080/"
        },
        "outputId": "8d21cbbd-2155-417f-a6b3-ec820bae57ab"
      },
      "source": [
        "df.info()"
      ],
      "execution_count": 9,
      "outputs": [
        {
          "output_type": "stream",
          "name": "stdout",
          "text": [
            "<class 'pandas.core.frame.DataFrame'>\n",
            "RangeIndex: 41188 entries, 0 to 41187\n",
            "Data columns (total 21 columns):\n",
            " #   Column          Non-Null Count  Dtype  \n",
            "---  ------          --------------  -----  \n",
            " 0   age             41188 non-null  int64  \n",
            " 1   job             40858 non-null  object \n",
            " 2   marital         41108 non-null  object \n",
            " 3   education       39457 non-null  object \n",
            " 4   default         32591 non-null  object \n",
            " 5   housing         40198 non-null  object \n",
            " 6   loan            40198 non-null  object \n",
            " 7   contact         41188 non-null  object \n",
            " 8   month           41188 non-null  object \n",
            " 9   day_of_week     41188 non-null  object \n",
            " 10  duration        41188 non-null  int64  \n",
            " 11  campaign        41188 non-null  int64  \n",
            " 12  pdays           41188 non-null  int64  \n",
            " 13  previous        41188 non-null  int64  \n",
            " 14  poutcome        41188 non-null  object \n",
            " 15  emp.var.rate    41188 non-null  float64\n",
            " 16  cons.price.idx  41188 non-null  float64\n",
            " 17  cons.conf.idx   41188 non-null  float64\n",
            " 18  euribor3m       41188 non-null  float64\n",
            " 19  nr.employed     41188 non-null  float64\n",
            " 20  y               41188 non-null  object \n",
            "dtypes: float64(5), int64(5), object(11)\n",
            "memory usage: 6.6+ MB\n"
          ]
        }
      ]
    },
    {
      "cell_type": "markdown",
      "metadata": {
        "id": "tratbXxwpoZy"
      },
      "source": [
        "It turns out that missing values should not be a major problem here. Only few columns are impacted by this data quality problem, and even in their case the impact is small (in the most affected \"default\" column, the rate of non-missingness is roughly 80%)."
      ]
    },
    {
      "cell_type": "markdown",
      "metadata": {
        "id": "QB07hQGL13FP"
      },
      "source": [
        "Let's clean up the DataFrame further. We start by droping all duplicated rows."
      ]
    },
    {
      "cell_type": "code",
      "metadata": {
        "id": "MakE6cWQ1-3F"
      },
      "source": [
        "df = df.drop_duplicates()"
      ],
      "execution_count": 10,
      "outputs": []
    },
    {
      "cell_type": "markdown",
      "metadata": {
        "id": "E5EeJxXH2DHZ"
      },
      "source": [
        "Next we extract the labels."
      ]
    },
    {
      "cell_type": "code",
      "metadata": {
        "id": "1s3hm45H2F1d"
      },
      "source": [
        "labels = df[\"y\"]"
      ],
      "execution_count": 11,
      "outputs": []
    },
    {
      "cell_type": "markdown",
      "metadata": {
        "id": "AB47b8Pu2MGy"
      },
      "source": [
        "Now we can drop the label column. However, we will be dropping not only the label but also the \"duration\" column as the description of the dataset says \"*this input should only be included for benchmark purposes and should be discarded if the intention is to have a realistic predictive model.*\""
      ]
    },
    {
      "cell_type": "code",
      "metadata": {
        "id": "JJtSt0tx2rm-"
      },
      "source": [
        "df = df.drop(columns = [\"y\", \"duration\"])"
      ],
      "execution_count": 12,
      "outputs": []
    },
    {
      "cell_type": "markdown",
      "metadata": {
        "id": "_JFMisCw2tie"
      },
      "source": [
        "In the education column, we have categorical values, for which it makes sense to order them (i.e. from `illiterate` to `university degree`. We can do so by mapping the values to integers."
      ]
    },
    {
      "cell_type": "code",
      "metadata": {
        "id": "sx7cBQk8lnec"
      },
      "source": [
        "edu_dict = {\"illiterate\":1,\n",
        "            \"basic.4y\":2,\n",
        "            \"basic.6y\":3,\n",
        "            \"basic.9y\":4,\n",
        "            \"high.school\":5,\n",
        "            \"professional.course\":6,\n",
        "            \"university.degree\":7}\n",
        "\n",
        "df[\"education\"] = df[\"education\"].map(edu_dict)"
      ],
      "execution_count": 13,
      "outputs": []
    },
    {
      "cell_type": "markdown",
      "metadata": {
        "id": "7fx3ho1F21An"
      },
      "source": [
        "For \"pdays\" column, the value of 999 means that a customer has not been previously contacted. This encoding, however, indicates that 999 is a meaningful number, which is not true. We can transform 999s into missing values and add an indicator column to our dataset. There are no missing values as such in the column."
      ]
    },
    {
      "cell_type": "code",
      "metadata": {
        "id": "PQqIa1pz25Sj"
      },
      "source": [
        "df[\"pdays_not_applicable\"] = [1 if x == 999 else 0 for x in df[\"pdays\"]]\n",
        "df.loc[:, \"pdays\"] = [x if x != 999 else np.nan for x in df[\"pdays\"]]"
      ],
      "execution_count": 14,
      "outputs": []
    },
    {
      "cell_type": "markdown",
      "metadata": {
        "id": "vddo8GlQ3F5y"
      },
      "source": [
        "Our XAI package unfortunately requires that there are no missing values in our feature matrix. We will apply a simple imputations methods to eliminate this issue."
      ]
    },
    {
      "cell_type": "code",
      "metadata": {
        "id": "4MZ02Ax4C6BN"
      },
      "source": [
        "# Define which columns are purely categorical.\n",
        "cats_features = df.select_dtypes('object').columns.tolist()\n",
        "# Define which columns are numerical.\n",
        "nums_features = [col for col in list(set(df.columns.tolist()) - set(cats_features))]\n",
        "nums_features = sorted(nums_features)\n",
        "# Specify the imputation methods.\n",
        "imputer_num = SimpleImputer(missing_values = np.nan, strategy = 'median') # For numerical variables.\n",
        "imputer_cat = SimpleImputer(missing_values = np.nan, strategy = 'most_frequent') # For categorical variables."
      ],
      "execution_count": 15,
      "outputs": []
    },
    {
      "cell_type": "markdown",
      "metadata": {
        "id": "aZYO6Rqc3Y2K"
      },
      "source": [
        "Next, we can define a new feature matrix where the first columns are the categorical features and all numerical columns come after them."
      ]
    },
    {
      "cell_type": "code",
      "metadata": {
        "id": "1x_IRd243gqk"
      },
      "source": [
        "column_assign = cats_features + nums_features\n",
        "df = df[column_assign]"
      ],
      "execution_count": 16,
      "outputs": []
    },
    {
      "cell_type": "markdown",
      "metadata": {
        "id": "OvY1TwI83iDb"
      },
      "source": [
        "We can impute the missing values now so that the sampling methods can be used later."
      ]
    },
    {
      "cell_type": "code",
      "metadata": {
        "id": "7Cle6lE-3oE9"
      },
      "source": [
        "df[nums_features] = imputer_num.fit_transform(df[nums_features])\n",
        "df[cats_features] = imputer_cat.fit_transform(df[cats_features])"
      ],
      "execution_count": 17,
      "outputs": []
    },
    {
      "cell_type": "markdown",
      "metadata": {
        "id": "t-LWoqFv3pPC"
      },
      "source": [
        "Futhermore, normally, for non-ordinal, categorical features we can adjust their data type in Pandas from \"object\" to \"categorical\" and pass them into LGBM.\n",
        "\n",
        "A limitation of the defragTrees package, however, is that it cannot handle values which are not numerical. Hence, we will need to apply one-hot encoding here."
      ]
    },
    {
      "cell_type": "code",
      "metadata": {
        "id": "DCkMhJxoD2jd"
      },
      "source": [
        "df_dummies = pd.get_dummies(df)"
      ],
      "execution_count": 18,
      "outputs": []
    },
    {
      "cell_type": "markdown",
      "metadata": {
        "id": "cPdTUDzUOHRA"
      },
      "source": [
        "#### **Question 1:**\n",
        "How does LGBM encode categorical features under the hood if they are passed into the model without one-hot encoding?\n",
        "\n",
        "#### **Question 2:**\n",
        "What is the difference between \"object\" and \"category\" dtypes in pandas?"
      ]
    },
    {
      "cell_type": "markdown",
      "metadata": {
        "id": "movogldw38RJ"
      },
      "source": [
        "Let's have a look at our new DataFrame."
      ]
    },
    {
      "cell_type": "code",
      "metadata": {
        "id": "qsq7mqbuEYFN",
        "colab": {
          "base_uri": "https://localhost:8080/",
          "height": 255
        },
        "outputId": "f797d46e-b379-49f5-99d3-0a92e82d2c48"
      },
      "source": [
        "df_dummies.head()"
      ],
      "execution_count": 19,
      "outputs": [
        {
          "output_type": "execute_result",
          "data": {
            "text/plain": [
              "    age  campaign  cons.conf.idx  cons.price.idx  education  emp.var.rate  \\\n",
              "0  56.0       1.0          -36.4          93.994        2.0           1.1   \n",
              "1  57.0       1.0          -36.4          93.994        5.0           1.1   \n",
              "2  37.0       1.0          -36.4          93.994        5.0           1.1   \n",
              "3  40.0       1.0          -36.4          93.994        3.0           1.1   \n",
              "4  56.0       1.0          -36.4          93.994        5.0           1.1   \n",
              "\n",
              "   euribor3m  nr.employed  pdays  pdays_not_applicable  ...  month_oct  \\\n",
              "0      4.857       5191.0    6.0                   1.0  ...          0   \n",
              "1      4.857       5191.0    6.0                   1.0  ...          0   \n",
              "2      4.857       5191.0    6.0                   1.0  ...          0   \n",
              "3      4.857       5191.0    6.0                   1.0  ...          0   \n",
              "4      4.857       5191.0    6.0                   1.0  ...          0   \n",
              "\n",
              "   month_sep  day_of_week_fri  day_of_week_mon  day_of_week_thu  \\\n",
              "0          0                0                1                0   \n",
              "1          0                0                1                0   \n",
              "2          0                0                1                0   \n",
              "3          0                0                1                0   \n",
              "4          0                0                1                0   \n",
              "\n",
              "   day_of_week_tue  day_of_week_wed  poutcome_failure  poutcome_nonexistent  \\\n",
              "0                0                0                 0                     1   \n",
              "1                0                0                 0                     1   \n",
              "2                0                0                 0                     1   \n",
              "3                0                0                 0                     1   \n",
              "4                0                0                 0                     1   \n",
              "\n",
              "   poutcome_success  \n",
              "0                 0  \n",
              "1                 0  \n",
              "2                 0  \n",
              "3                 0  \n",
              "4                 0  \n",
              "\n",
              "[5 rows x 51 columns]"
            ],
            "text/html": [
              "\n",
              "  <div id=\"df-a6bf128d-ad20-4335-b937-f3f962ace394\" class=\"colab-df-container\">\n",
              "    <div>\n",
              "<style scoped>\n",
              "    .dataframe tbody tr th:only-of-type {\n",
              "        vertical-align: middle;\n",
              "    }\n",
              "\n",
              "    .dataframe tbody tr th {\n",
              "        vertical-align: top;\n",
              "    }\n",
              "\n",
              "    .dataframe thead th {\n",
              "        text-align: right;\n",
              "    }\n",
              "</style>\n",
              "<table border=\"1\" class=\"dataframe\">\n",
              "  <thead>\n",
              "    <tr style=\"text-align: right;\">\n",
              "      <th></th>\n",
              "      <th>age</th>\n",
              "      <th>campaign</th>\n",
              "      <th>cons.conf.idx</th>\n",
              "      <th>cons.price.idx</th>\n",
              "      <th>education</th>\n",
              "      <th>emp.var.rate</th>\n",
              "      <th>euribor3m</th>\n",
              "      <th>nr.employed</th>\n",
              "      <th>pdays</th>\n",
              "      <th>pdays_not_applicable</th>\n",
              "      <th>...</th>\n",
              "      <th>month_oct</th>\n",
              "      <th>month_sep</th>\n",
              "      <th>day_of_week_fri</th>\n",
              "      <th>day_of_week_mon</th>\n",
              "      <th>day_of_week_thu</th>\n",
              "      <th>day_of_week_tue</th>\n",
              "      <th>day_of_week_wed</th>\n",
              "      <th>poutcome_failure</th>\n",
              "      <th>poutcome_nonexistent</th>\n",
              "      <th>poutcome_success</th>\n",
              "    </tr>\n",
              "  </thead>\n",
              "  <tbody>\n",
              "    <tr>\n",
              "      <th>0</th>\n",
              "      <td>56.0</td>\n",
              "      <td>1.0</td>\n",
              "      <td>-36.4</td>\n",
              "      <td>93.994</td>\n",
              "      <td>2.0</td>\n",
              "      <td>1.1</td>\n",
              "      <td>4.857</td>\n",
              "      <td>5191.0</td>\n",
              "      <td>6.0</td>\n",
              "      <td>1.0</td>\n",
              "      <td>...</td>\n",
              "      <td>0</td>\n",
              "      <td>0</td>\n",
              "      <td>0</td>\n",
              "      <td>1</td>\n",
              "      <td>0</td>\n",
              "      <td>0</td>\n",
              "      <td>0</td>\n",
              "      <td>0</td>\n",
              "      <td>1</td>\n",
              "      <td>0</td>\n",
              "    </tr>\n",
              "    <tr>\n",
              "      <th>1</th>\n",
              "      <td>57.0</td>\n",
              "      <td>1.0</td>\n",
              "      <td>-36.4</td>\n",
              "      <td>93.994</td>\n",
              "      <td>5.0</td>\n",
              "      <td>1.1</td>\n",
              "      <td>4.857</td>\n",
              "      <td>5191.0</td>\n",
              "      <td>6.0</td>\n",
              "      <td>1.0</td>\n",
              "      <td>...</td>\n",
              "      <td>0</td>\n",
              "      <td>0</td>\n",
              "      <td>0</td>\n",
              "      <td>1</td>\n",
              "      <td>0</td>\n",
              "      <td>0</td>\n",
              "      <td>0</td>\n",
              "      <td>0</td>\n",
              "      <td>1</td>\n",
              "      <td>0</td>\n",
              "    </tr>\n",
              "    <tr>\n",
              "      <th>2</th>\n",
              "      <td>37.0</td>\n",
              "      <td>1.0</td>\n",
              "      <td>-36.4</td>\n",
              "      <td>93.994</td>\n",
              "      <td>5.0</td>\n",
              "      <td>1.1</td>\n",
              "      <td>4.857</td>\n",
              "      <td>5191.0</td>\n",
              "      <td>6.0</td>\n",
              "      <td>1.0</td>\n",
              "      <td>...</td>\n",
              "      <td>0</td>\n",
              "      <td>0</td>\n",
              "      <td>0</td>\n",
              "      <td>1</td>\n",
              "      <td>0</td>\n",
              "      <td>0</td>\n",
              "      <td>0</td>\n",
              "      <td>0</td>\n",
              "      <td>1</td>\n",
              "      <td>0</td>\n",
              "    </tr>\n",
              "    <tr>\n",
              "      <th>3</th>\n",
              "      <td>40.0</td>\n",
              "      <td>1.0</td>\n",
              "      <td>-36.4</td>\n",
              "      <td>93.994</td>\n",
              "      <td>3.0</td>\n",
              "      <td>1.1</td>\n",
              "      <td>4.857</td>\n",
              "      <td>5191.0</td>\n",
              "      <td>6.0</td>\n",
              "      <td>1.0</td>\n",
              "      <td>...</td>\n",
              "      <td>0</td>\n",
              "      <td>0</td>\n",
              "      <td>0</td>\n",
              "      <td>1</td>\n",
              "      <td>0</td>\n",
              "      <td>0</td>\n",
              "      <td>0</td>\n",
              "      <td>0</td>\n",
              "      <td>1</td>\n",
              "      <td>0</td>\n",
              "    </tr>\n",
              "    <tr>\n",
              "      <th>4</th>\n",
              "      <td>56.0</td>\n",
              "      <td>1.0</td>\n",
              "      <td>-36.4</td>\n",
              "      <td>93.994</td>\n",
              "      <td>5.0</td>\n",
              "      <td>1.1</td>\n",
              "      <td>4.857</td>\n",
              "      <td>5191.0</td>\n",
              "      <td>6.0</td>\n",
              "      <td>1.0</td>\n",
              "      <td>...</td>\n",
              "      <td>0</td>\n",
              "      <td>0</td>\n",
              "      <td>0</td>\n",
              "      <td>1</td>\n",
              "      <td>0</td>\n",
              "      <td>0</td>\n",
              "      <td>0</td>\n",
              "      <td>0</td>\n",
              "      <td>1</td>\n",
              "      <td>0</td>\n",
              "    </tr>\n",
              "  </tbody>\n",
              "</table>\n",
              "<p>5 rows × 51 columns</p>\n",
              "</div>\n",
              "    <div class=\"colab-df-buttons\">\n",
              "\n",
              "  <div class=\"colab-df-container\">\n",
              "    <button class=\"colab-df-convert\" onclick=\"convertToInteractive('df-a6bf128d-ad20-4335-b937-f3f962ace394')\"\n",
              "            title=\"Convert this dataframe to an interactive table.\"\n",
              "            style=\"display:none;\">\n",
              "\n",
              "  <svg xmlns=\"http://www.w3.org/2000/svg\" height=\"24px\" viewBox=\"0 -960 960 960\">\n",
              "    <path d=\"M120-120v-720h720v720H120Zm60-500h600v-160H180v160Zm220 220h160v-160H400v160Zm0 220h160v-160H400v160ZM180-400h160v-160H180v160Zm440 0h160v-160H620v160ZM180-180h160v-160H180v160Zm440 0h160v-160H620v160Z\"/>\n",
              "  </svg>\n",
              "    </button>\n",
              "\n",
              "  <style>\n",
              "    .colab-df-container {\n",
              "      display:flex;\n",
              "      gap: 12px;\n",
              "    }\n",
              "\n",
              "    .colab-df-convert {\n",
              "      background-color: #E8F0FE;\n",
              "      border: none;\n",
              "      border-radius: 50%;\n",
              "      cursor: pointer;\n",
              "      display: none;\n",
              "      fill: #1967D2;\n",
              "      height: 32px;\n",
              "      padding: 0 0 0 0;\n",
              "      width: 32px;\n",
              "    }\n",
              "\n",
              "    .colab-df-convert:hover {\n",
              "      background-color: #E2EBFA;\n",
              "      box-shadow: 0px 1px 2px rgba(60, 64, 67, 0.3), 0px 1px 3px 1px rgba(60, 64, 67, 0.15);\n",
              "      fill: #174EA6;\n",
              "    }\n",
              "\n",
              "    .colab-df-buttons div {\n",
              "      margin-bottom: 4px;\n",
              "    }\n",
              "\n",
              "    [theme=dark] .colab-df-convert {\n",
              "      background-color: #3B4455;\n",
              "      fill: #D2E3FC;\n",
              "    }\n",
              "\n",
              "    [theme=dark] .colab-df-convert:hover {\n",
              "      background-color: #434B5C;\n",
              "      box-shadow: 0px 1px 3px 1px rgba(0, 0, 0, 0.15);\n",
              "      filter: drop-shadow(0px 1px 2px rgba(0, 0, 0, 0.3));\n",
              "      fill: #FFFFFF;\n",
              "    }\n",
              "  </style>\n",
              "\n",
              "    <script>\n",
              "      const buttonEl =\n",
              "        document.querySelector('#df-a6bf128d-ad20-4335-b937-f3f962ace394 button.colab-df-convert');\n",
              "      buttonEl.style.display =\n",
              "        google.colab.kernel.accessAllowed ? 'block' : 'none';\n",
              "\n",
              "      async function convertToInteractive(key) {\n",
              "        const element = document.querySelector('#df-a6bf128d-ad20-4335-b937-f3f962ace394');\n",
              "        const dataTable =\n",
              "          await google.colab.kernel.invokeFunction('convertToInteractive',\n",
              "                                                    [key], {});\n",
              "        if (!dataTable) return;\n",
              "\n",
              "        const docLinkHtml = 'Like what you see? Visit the ' +\n",
              "          '<a target=\"_blank\" href=https://colab.research.google.com/notebooks/data_table.ipynb>data table notebook</a>'\n",
              "          + ' to learn more about interactive tables.';\n",
              "        element.innerHTML = '';\n",
              "        dataTable['output_type'] = 'display_data';\n",
              "        await google.colab.output.renderOutput(dataTable, element);\n",
              "        const docLink = document.createElement('div');\n",
              "        docLink.innerHTML = docLinkHtml;\n",
              "        element.appendChild(docLink);\n",
              "      }\n",
              "    </script>\n",
              "  </div>\n",
              "\n",
              "\n",
              "<div id=\"df-5d8fd861-6db2-48a9-8f12-1babcfe5146d\">\n",
              "  <button class=\"colab-df-quickchart\" onclick=\"quickchart('df-5d8fd861-6db2-48a9-8f12-1babcfe5146d')\"\n",
              "            title=\"Suggest charts\"\n",
              "            style=\"display:none;\">\n",
              "\n",
              "<svg xmlns=\"http://www.w3.org/2000/svg\" height=\"24px\"viewBox=\"0 0 24 24\"\n",
              "     width=\"24px\">\n",
              "    <g>\n",
              "        <path d=\"M19 3H5c-1.1 0-2 .9-2 2v14c0 1.1.9 2 2 2h14c1.1 0 2-.9 2-2V5c0-1.1-.9-2-2-2zM9 17H7v-7h2v7zm4 0h-2V7h2v10zm4 0h-2v-4h2v4z\"/>\n",
              "    </g>\n",
              "</svg>\n",
              "  </button>\n",
              "\n",
              "<style>\n",
              "  .colab-df-quickchart {\n",
              "      --bg-color: #E8F0FE;\n",
              "      --fill-color: #1967D2;\n",
              "      --hover-bg-color: #E2EBFA;\n",
              "      --hover-fill-color: #174EA6;\n",
              "      --disabled-fill-color: #AAA;\n",
              "      --disabled-bg-color: #DDD;\n",
              "  }\n",
              "\n",
              "  [theme=dark] .colab-df-quickchart {\n",
              "      --bg-color: #3B4455;\n",
              "      --fill-color: #D2E3FC;\n",
              "      --hover-bg-color: #434B5C;\n",
              "      --hover-fill-color: #FFFFFF;\n",
              "      --disabled-bg-color: #3B4455;\n",
              "      --disabled-fill-color: #666;\n",
              "  }\n",
              "\n",
              "  .colab-df-quickchart {\n",
              "    background-color: var(--bg-color);\n",
              "    border: none;\n",
              "    border-radius: 50%;\n",
              "    cursor: pointer;\n",
              "    display: none;\n",
              "    fill: var(--fill-color);\n",
              "    height: 32px;\n",
              "    padding: 0;\n",
              "    width: 32px;\n",
              "  }\n",
              "\n",
              "  .colab-df-quickchart:hover {\n",
              "    background-color: var(--hover-bg-color);\n",
              "    box-shadow: 0 1px 2px rgba(60, 64, 67, 0.3), 0 1px 3px 1px rgba(60, 64, 67, 0.15);\n",
              "    fill: var(--button-hover-fill-color);\n",
              "  }\n",
              "\n",
              "  .colab-df-quickchart-complete:disabled,\n",
              "  .colab-df-quickchart-complete:disabled:hover {\n",
              "    background-color: var(--disabled-bg-color);\n",
              "    fill: var(--disabled-fill-color);\n",
              "    box-shadow: none;\n",
              "  }\n",
              "\n",
              "  .colab-df-spinner {\n",
              "    border: 2px solid var(--fill-color);\n",
              "    border-color: transparent;\n",
              "    border-bottom-color: var(--fill-color);\n",
              "    animation:\n",
              "      spin 1s steps(1) infinite;\n",
              "  }\n",
              "\n",
              "  @keyframes spin {\n",
              "    0% {\n",
              "      border-color: transparent;\n",
              "      border-bottom-color: var(--fill-color);\n",
              "      border-left-color: var(--fill-color);\n",
              "    }\n",
              "    20% {\n",
              "      border-color: transparent;\n",
              "      border-left-color: var(--fill-color);\n",
              "      border-top-color: var(--fill-color);\n",
              "    }\n",
              "    30% {\n",
              "      border-color: transparent;\n",
              "      border-left-color: var(--fill-color);\n",
              "      border-top-color: var(--fill-color);\n",
              "      border-right-color: var(--fill-color);\n",
              "    }\n",
              "    40% {\n",
              "      border-color: transparent;\n",
              "      border-right-color: var(--fill-color);\n",
              "      border-top-color: var(--fill-color);\n",
              "    }\n",
              "    60% {\n",
              "      border-color: transparent;\n",
              "      border-right-color: var(--fill-color);\n",
              "    }\n",
              "    80% {\n",
              "      border-color: transparent;\n",
              "      border-right-color: var(--fill-color);\n",
              "      border-bottom-color: var(--fill-color);\n",
              "    }\n",
              "    90% {\n",
              "      border-color: transparent;\n",
              "      border-bottom-color: var(--fill-color);\n",
              "    }\n",
              "  }\n",
              "</style>\n",
              "\n",
              "  <script>\n",
              "    async function quickchart(key) {\n",
              "      const quickchartButtonEl =\n",
              "        document.querySelector('#' + key + ' button');\n",
              "      quickchartButtonEl.disabled = true;  // To prevent multiple clicks.\n",
              "      quickchartButtonEl.classList.add('colab-df-spinner');\n",
              "      try {\n",
              "        const charts = await google.colab.kernel.invokeFunction(\n",
              "            'suggestCharts', [key], {});\n",
              "      } catch (error) {\n",
              "        console.error('Error during call to suggestCharts:', error);\n",
              "      }\n",
              "      quickchartButtonEl.classList.remove('colab-df-spinner');\n",
              "      quickchartButtonEl.classList.add('colab-df-quickchart-complete');\n",
              "    }\n",
              "    (() => {\n",
              "      let quickchartButtonEl =\n",
              "        document.querySelector('#df-5d8fd861-6db2-48a9-8f12-1babcfe5146d button');\n",
              "      quickchartButtonEl.style.display =\n",
              "        google.colab.kernel.accessAllowed ? 'block' : 'none';\n",
              "    })();\n",
              "  </script>\n",
              "</div>\n",
              "    </div>\n",
              "  </div>\n"
            ]
          },
          "metadata": {},
          "execution_count": 19
        }
      ]
    },
    {
      "cell_type": "markdown",
      "metadata": {
        "id": "6m6WQIa04Aoe"
      },
      "source": [
        "Next, we need to split the training, validation and test sets."
      ]
    },
    {
      "cell_type": "code",
      "metadata": {
        "id": "VolMd4YFyp3s"
      },
      "source": [
        "X_train, X_test, y_train, y_test = train_test_split(df_dummies, labels, test_size=0.2, random_state=55)\n",
        "X_train, X_val, y_train, y_val = train_test_split(X_train, y_train, test_size=0.2, random_state=55)"
      ],
      "execution_count": 20,
      "outputs": []
    },
    {
      "cell_type": "code",
      "metadata": {
        "id": "j3Fdenl8ydWJ",
        "colab": {
          "base_uri": "https://localhost:8080/",
          "height": 255
        },
        "outputId": "d457c064-caea-498d-9b3f-0050863cbf4a"
      },
      "source": [
        "X_train.head()"
      ],
      "execution_count": 21,
      "outputs": [
        {
          "output_type": "execute_result",
          "data": {
            "text/plain": [
              "        age  campaign  cons.conf.idx  cons.price.idx  education  emp.var.rate  \\\n",
              "38041  31.0       4.0          -29.8          92.379        6.0          -3.4   \n",
              "7163   31.0       2.0          -36.4          93.994        5.0           1.1   \n",
              "514    59.0       1.0          -36.4          93.994        5.0           1.1   \n",
              "10712  22.0       2.0          -41.8          94.465        2.0           1.4   \n",
              "18525  43.0       8.0          -42.7          93.918        2.0           1.4   \n",
              "\n",
              "       euribor3m  nr.employed  pdays  pdays_not_applicable  ...  month_oct  \\\n",
              "38041      0.773       5017.5    6.0                   1.0  ...          0   \n",
              "7163       4.860       5191.0    6.0                   1.0  ...          0   \n",
              "514        4.857       5191.0    6.0                   1.0  ...          0   \n",
              "10712      4.961       5228.1    6.0                   1.0  ...          0   \n",
              "18525      4.968       5228.1    6.0                   1.0  ...          0   \n",
              "\n",
              "       month_sep  day_of_week_fri  day_of_week_mon  day_of_week_thu  \\\n",
              "38041          1                1                0                0   \n",
              "7163           0                0                0                1   \n",
              "514            0                0                0                0   \n",
              "10712          0                0                0                0   \n",
              "18525          0                0                0                1   \n",
              "\n",
              "       day_of_week_tue  day_of_week_wed  poutcome_failure  \\\n",
              "38041                0                0                 0   \n",
              "7163                 0                0                 0   \n",
              "514                  1                0                 0   \n",
              "10712                1                0                 0   \n",
              "18525                0                0                 0   \n",
              "\n",
              "       poutcome_nonexistent  poutcome_success  \n",
              "38041                     1                 0  \n",
              "7163                      1                 0  \n",
              "514                       1                 0  \n",
              "10712                     1                 0  \n",
              "18525                     1                 0  \n",
              "\n",
              "[5 rows x 51 columns]"
            ],
            "text/html": [
              "\n",
              "  <div id=\"df-ce765dcd-3d8a-497e-8b88-3c0991158bc2\" class=\"colab-df-container\">\n",
              "    <div>\n",
              "<style scoped>\n",
              "    .dataframe tbody tr th:only-of-type {\n",
              "        vertical-align: middle;\n",
              "    }\n",
              "\n",
              "    .dataframe tbody tr th {\n",
              "        vertical-align: top;\n",
              "    }\n",
              "\n",
              "    .dataframe thead th {\n",
              "        text-align: right;\n",
              "    }\n",
              "</style>\n",
              "<table border=\"1\" class=\"dataframe\">\n",
              "  <thead>\n",
              "    <tr style=\"text-align: right;\">\n",
              "      <th></th>\n",
              "      <th>age</th>\n",
              "      <th>campaign</th>\n",
              "      <th>cons.conf.idx</th>\n",
              "      <th>cons.price.idx</th>\n",
              "      <th>education</th>\n",
              "      <th>emp.var.rate</th>\n",
              "      <th>euribor3m</th>\n",
              "      <th>nr.employed</th>\n",
              "      <th>pdays</th>\n",
              "      <th>pdays_not_applicable</th>\n",
              "      <th>...</th>\n",
              "      <th>month_oct</th>\n",
              "      <th>month_sep</th>\n",
              "      <th>day_of_week_fri</th>\n",
              "      <th>day_of_week_mon</th>\n",
              "      <th>day_of_week_thu</th>\n",
              "      <th>day_of_week_tue</th>\n",
              "      <th>day_of_week_wed</th>\n",
              "      <th>poutcome_failure</th>\n",
              "      <th>poutcome_nonexistent</th>\n",
              "      <th>poutcome_success</th>\n",
              "    </tr>\n",
              "  </thead>\n",
              "  <tbody>\n",
              "    <tr>\n",
              "      <th>38041</th>\n",
              "      <td>31.0</td>\n",
              "      <td>4.0</td>\n",
              "      <td>-29.8</td>\n",
              "      <td>92.379</td>\n",
              "      <td>6.0</td>\n",
              "      <td>-3.4</td>\n",
              "      <td>0.773</td>\n",
              "      <td>5017.5</td>\n",
              "      <td>6.0</td>\n",
              "      <td>1.0</td>\n",
              "      <td>...</td>\n",
              "      <td>0</td>\n",
              "      <td>1</td>\n",
              "      <td>1</td>\n",
              "      <td>0</td>\n",
              "      <td>0</td>\n",
              "      <td>0</td>\n",
              "      <td>0</td>\n",
              "      <td>0</td>\n",
              "      <td>1</td>\n",
              "      <td>0</td>\n",
              "    </tr>\n",
              "    <tr>\n",
              "      <th>7163</th>\n",
              "      <td>31.0</td>\n",
              "      <td>2.0</td>\n",
              "      <td>-36.4</td>\n",
              "      <td>93.994</td>\n",
              "      <td>5.0</td>\n",
              "      <td>1.1</td>\n",
              "      <td>4.860</td>\n",
              "      <td>5191.0</td>\n",
              "      <td>6.0</td>\n",
              "      <td>1.0</td>\n",
              "      <td>...</td>\n",
              "      <td>0</td>\n",
              "      <td>0</td>\n",
              "      <td>0</td>\n",
              "      <td>0</td>\n",
              "      <td>1</td>\n",
              "      <td>0</td>\n",
              "      <td>0</td>\n",
              "      <td>0</td>\n",
              "      <td>1</td>\n",
              "      <td>0</td>\n",
              "    </tr>\n",
              "    <tr>\n",
              "      <th>514</th>\n",
              "      <td>59.0</td>\n",
              "      <td>1.0</td>\n",
              "      <td>-36.4</td>\n",
              "      <td>93.994</td>\n",
              "      <td>5.0</td>\n",
              "      <td>1.1</td>\n",
              "      <td>4.857</td>\n",
              "      <td>5191.0</td>\n",
              "      <td>6.0</td>\n",
              "      <td>1.0</td>\n",
              "      <td>...</td>\n",
              "      <td>0</td>\n",
              "      <td>0</td>\n",
              "      <td>0</td>\n",
              "      <td>0</td>\n",
              "      <td>0</td>\n",
              "      <td>1</td>\n",
              "      <td>0</td>\n",
              "      <td>0</td>\n",
              "      <td>1</td>\n",
              "      <td>0</td>\n",
              "    </tr>\n",
              "    <tr>\n",
              "      <th>10712</th>\n",
              "      <td>22.0</td>\n",
              "      <td>2.0</td>\n",
              "      <td>-41.8</td>\n",
              "      <td>94.465</td>\n",
              "      <td>2.0</td>\n",
              "      <td>1.4</td>\n",
              "      <td>4.961</td>\n",
              "      <td>5228.1</td>\n",
              "      <td>6.0</td>\n",
              "      <td>1.0</td>\n",
              "      <td>...</td>\n",
              "      <td>0</td>\n",
              "      <td>0</td>\n",
              "      <td>0</td>\n",
              "      <td>0</td>\n",
              "      <td>0</td>\n",
              "      <td>1</td>\n",
              "      <td>0</td>\n",
              "      <td>0</td>\n",
              "      <td>1</td>\n",
              "      <td>0</td>\n",
              "    </tr>\n",
              "    <tr>\n",
              "      <th>18525</th>\n",
              "      <td>43.0</td>\n",
              "      <td>8.0</td>\n",
              "      <td>-42.7</td>\n",
              "      <td>93.918</td>\n",
              "      <td>2.0</td>\n",
              "      <td>1.4</td>\n",
              "      <td>4.968</td>\n",
              "      <td>5228.1</td>\n",
              "      <td>6.0</td>\n",
              "      <td>1.0</td>\n",
              "      <td>...</td>\n",
              "      <td>0</td>\n",
              "      <td>0</td>\n",
              "      <td>0</td>\n",
              "      <td>0</td>\n",
              "      <td>1</td>\n",
              "      <td>0</td>\n",
              "      <td>0</td>\n",
              "      <td>0</td>\n",
              "      <td>1</td>\n",
              "      <td>0</td>\n",
              "    </tr>\n",
              "  </tbody>\n",
              "</table>\n",
              "<p>5 rows × 51 columns</p>\n",
              "</div>\n",
              "    <div class=\"colab-df-buttons\">\n",
              "\n",
              "  <div class=\"colab-df-container\">\n",
              "    <button class=\"colab-df-convert\" onclick=\"convertToInteractive('df-ce765dcd-3d8a-497e-8b88-3c0991158bc2')\"\n",
              "            title=\"Convert this dataframe to an interactive table.\"\n",
              "            style=\"display:none;\">\n",
              "\n",
              "  <svg xmlns=\"http://www.w3.org/2000/svg\" height=\"24px\" viewBox=\"0 -960 960 960\">\n",
              "    <path d=\"M120-120v-720h720v720H120Zm60-500h600v-160H180v160Zm220 220h160v-160H400v160Zm0 220h160v-160H400v160ZM180-400h160v-160H180v160Zm440 0h160v-160H620v160ZM180-180h160v-160H180v160Zm440 0h160v-160H620v160Z\"/>\n",
              "  </svg>\n",
              "    </button>\n",
              "\n",
              "  <style>\n",
              "    .colab-df-container {\n",
              "      display:flex;\n",
              "      gap: 12px;\n",
              "    }\n",
              "\n",
              "    .colab-df-convert {\n",
              "      background-color: #E8F0FE;\n",
              "      border: none;\n",
              "      border-radius: 50%;\n",
              "      cursor: pointer;\n",
              "      display: none;\n",
              "      fill: #1967D2;\n",
              "      height: 32px;\n",
              "      padding: 0 0 0 0;\n",
              "      width: 32px;\n",
              "    }\n",
              "\n",
              "    .colab-df-convert:hover {\n",
              "      background-color: #E2EBFA;\n",
              "      box-shadow: 0px 1px 2px rgba(60, 64, 67, 0.3), 0px 1px 3px 1px rgba(60, 64, 67, 0.15);\n",
              "      fill: #174EA6;\n",
              "    }\n",
              "\n",
              "    .colab-df-buttons div {\n",
              "      margin-bottom: 4px;\n",
              "    }\n",
              "\n",
              "    [theme=dark] .colab-df-convert {\n",
              "      background-color: #3B4455;\n",
              "      fill: #D2E3FC;\n",
              "    }\n",
              "\n",
              "    [theme=dark] .colab-df-convert:hover {\n",
              "      background-color: #434B5C;\n",
              "      box-shadow: 0px 1px 3px 1px rgba(0, 0, 0, 0.15);\n",
              "      filter: drop-shadow(0px 1px 2px rgba(0, 0, 0, 0.3));\n",
              "      fill: #FFFFFF;\n",
              "    }\n",
              "  </style>\n",
              "\n",
              "    <script>\n",
              "      const buttonEl =\n",
              "        document.querySelector('#df-ce765dcd-3d8a-497e-8b88-3c0991158bc2 button.colab-df-convert');\n",
              "      buttonEl.style.display =\n",
              "        google.colab.kernel.accessAllowed ? 'block' : 'none';\n",
              "\n",
              "      async function convertToInteractive(key) {\n",
              "        const element = document.querySelector('#df-ce765dcd-3d8a-497e-8b88-3c0991158bc2');\n",
              "        const dataTable =\n",
              "          await google.colab.kernel.invokeFunction('convertToInteractive',\n",
              "                                                    [key], {});\n",
              "        if (!dataTable) return;\n",
              "\n",
              "        const docLinkHtml = 'Like what you see? Visit the ' +\n",
              "          '<a target=\"_blank\" href=https://colab.research.google.com/notebooks/data_table.ipynb>data table notebook</a>'\n",
              "          + ' to learn more about interactive tables.';\n",
              "        element.innerHTML = '';\n",
              "        dataTable['output_type'] = 'display_data';\n",
              "        await google.colab.output.renderOutput(dataTable, element);\n",
              "        const docLink = document.createElement('div');\n",
              "        docLink.innerHTML = docLinkHtml;\n",
              "        element.appendChild(docLink);\n",
              "      }\n",
              "    </script>\n",
              "  </div>\n",
              "\n",
              "\n",
              "<div id=\"df-5b4cb86e-fcd6-4677-9731-09d95c9befc7\">\n",
              "  <button class=\"colab-df-quickchart\" onclick=\"quickchart('df-5b4cb86e-fcd6-4677-9731-09d95c9befc7')\"\n",
              "            title=\"Suggest charts\"\n",
              "            style=\"display:none;\">\n",
              "\n",
              "<svg xmlns=\"http://www.w3.org/2000/svg\" height=\"24px\"viewBox=\"0 0 24 24\"\n",
              "     width=\"24px\">\n",
              "    <g>\n",
              "        <path d=\"M19 3H5c-1.1 0-2 .9-2 2v14c0 1.1.9 2 2 2h14c1.1 0 2-.9 2-2V5c0-1.1-.9-2-2-2zM9 17H7v-7h2v7zm4 0h-2V7h2v10zm4 0h-2v-4h2v4z\"/>\n",
              "    </g>\n",
              "</svg>\n",
              "  </button>\n",
              "\n",
              "<style>\n",
              "  .colab-df-quickchart {\n",
              "      --bg-color: #E8F0FE;\n",
              "      --fill-color: #1967D2;\n",
              "      --hover-bg-color: #E2EBFA;\n",
              "      --hover-fill-color: #174EA6;\n",
              "      --disabled-fill-color: #AAA;\n",
              "      --disabled-bg-color: #DDD;\n",
              "  }\n",
              "\n",
              "  [theme=dark] .colab-df-quickchart {\n",
              "      --bg-color: #3B4455;\n",
              "      --fill-color: #D2E3FC;\n",
              "      --hover-bg-color: #434B5C;\n",
              "      --hover-fill-color: #FFFFFF;\n",
              "      --disabled-bg-color: #3B4455;\n",
              "      --disabled-fill-color: #666;\n",
              "  }\n",
              "\n",
              "  .colab-df-quickchart {\n",
              "    background-color: var(--bg-color);\n",
              "    border: none;\n",
              "    border-radius: 50%;\n",
              "    cursor: pointer;\n",
              "    display: none;\n",
              "    fill: var(--fill-color);\n",
              "    height: 32px;\n",
              "    padding: 0;\n",
              "    width: 32px;\n",
              "  }\n",
              "\n",
              "  .colab-df-quickchart:hover {\n",
              "    background-color: var(--hover-bg-color);\n",
              "    box-shadow: 0 1px 2px rgba(60, 64, 67, 0.3), 0 1px 3px 1px rgba(60, 64, 67, 0.15);\n",
              "    fill: var(--button-hover-fill-color);\n",
              "  }\n",
              "\n",
              "  .colab-df-quickchart-complete:disabled,\n",
              "  .colab-df-quickchart-complete:disabled:hover {\n",
              "    background-color: var(--disabled-bg-color);\n",
              "    fill: var(--disabled-fill-color);\n",
              "    box-shadow: none;\n",
              "  }\n",
              "\n",
              "  .colab-df-spinner {\n",
              "    border: 2px solid var(--fill-color);\n",
              "    border-color: transparent;\n",
              "    border-bottom-color: var(--fill-color);\n",
              "    animation:\n",
              "      spin 1s steps(1) infinite;\n",
              "  }\n",
              "\n",
              "  @keyframes spin {\n",
              "    0% {\n",
              "      border-color: transparent;\n",
              "      border-bottom-color: var(--fill-color);\n",
              "      border-left-color: var(--fill-color);\n",
              "    }\n",
              "    20% {\n",
              "      border-color: transparent;\n",
              "      border-left-color: var(--fill-color);\n",
              "      border-top-color: var(--fill-color);\n",
              "    }\n",
              "    30% {\n",
              "      border-color: transparent;\n",
              "      border-left-color: var(--fill-color);\n",
              "      border-top-color: var(--fill-color);\n",
              "      border-right-color: var(--fill-color);\n",
              "    }\n",
              "    40% {\n",
              "      border-color: transparent;\n",
              "      border-right-color: var(--fill-color);\n",
              "      border-top-color: var(--fill-color);\n",
              "    }\n",
              "    60% {\n",
              "      border-color: transparent;\n",
              "      border-right-color: var(--fill-color);\n",
              "    }\n",
              "    80% {\n",
              "      border-color: transparent;\n",
              "      border-right-color: var(--fill-color);\n",
              "      border-bottom-color: var(--fill-color);\n",
              "    }\n",
              "    90% {\n",
              "      border-color: transparent;\n",
              "      border-bottom-color: var(--fill-color);\n",
              "    }\n",
              "  }\n",
              "</style>\n",
              "\n",
              "  <script>\n",
              "    async function quickchart(key) {\n",
              "      const quickchartButtonEl =\n",
              "        document.querySelector('#' + key + ' button');\n",
              "      quickchartButtonEl.disabled = true;  // To prevent multiple clicks.\n",
              "      quickchartButtonEl.classList.add('colab-df-spinner');\n",
              "      try {\n",
              "        const charts = await google.colab.kernel.invokeFunction(\n",
              "            'suggestCharts', [key], {});\n",
              "      } catch (error) {\n",
              "        console.error('Error during call to suggestCharts:', error);\n",
              "      }\n",
              "      quickchartButtonEl.classList.remove('colab-df-spinner');\n",
              "      quickchartButtonEl.classList.add('colab-df-quickchart-complete');\n",
              "    }\n",
              "    (() => {\n",
              "      let quickchartButtonEl =\n",
              "        document.querySelector('#df-5b4cb86e-fcd6-4677-9731-09d95c9befc7 button');\n",
              "      quickchartButtonEl.style.display =\n",
              "        google.colab.kernel.accessAllowed ? 'block' : 'none';\n",
              "    })();\n",
              "  </script>\n",
              "</div>\n",
              "    </div>\n",
              "  </div>\n"
            ]
          },
          "metadata": {},
          "execution_count": 21
        }
      ]
    },
    {
      "cell_type": "markdown",
      "metadata": {
        "id": "zX8p6C7Tel-U"
      },
      "source": [
        "### Modelling\n",
        "\n",
        "We will train an LGBM model below with arbitrarily picked hyperparameters. This will be followed by optimising the hyperparameters to improve the performance and, hence, figure out the best rules for our problem with defragTrees."
      ]
    },
    {
      "cell_type": "code",
      "source": [
        "# params dictionary holds arbitrary hyperparameter values.\n",
        "params = {\n",
        "    'max_depth': 6,\n",
        "    'min_child_weight': 0,\n",
        "    'learning_rate': 0.5,  # Ensure this is a float, not string\n",
        "    'colsample_bytree': 0.75,  # Ensure this is a float, not string\n",
        "    'subsample': 1,\n",
        "    'reg_lambda': 1,\n",
        "    'n_estimators': 150,\n",
        "    'objective': 'binary',\n",
        "    'random_state': 55,\n",
        "    'verbose': -1\n",
        "}\n",
        "\n",
        "# Create LGBMClassifier instance\n",
        "lgb_model = lgb.LGBMClassifier(**params)\n",
        "\n",
        "# Fitting the model on the training set and controlling for overfitting with early stopping\n",
        "lgb_fitted = lgb_model.fit(\n",
        "    X_train, y_train,\n",
        "    eval_set=[(X_val, y_val)],\n",
        "    callbacks=[lgb.early_stopping(500)]  # Using early_stopping as a callback\n",
        ")\n"
      ],
      "metadata": {
        "colab": {
          "base_uri": "https://localhost:8080/"
        },
        "id": "S7_aFzVmb3V5",
        "outputId": "5425157f-8a81-4883-f64b-bd08df5d96c9"
      },
      "execution_count": 24,
      "outputs": [
        {
          "output_type": "stream",
          "name": "stdout",
          "text": [
            "Training until validation scores don't improve for 500 rounds\n",
            "Did not meet early stopping. Best iteration is:\n",
            "[6]\tvalid_0's binary_logloss: 0.272925\n"
          ]
        }
      ]
    },
    {
      "cell_type": "markdown",
      "metadata": {
        "id": "pBLnGlvy4OXF"
      },
      "source": [
        "Now, let's assess the model's performance.\n",
        "\n",
        "The simple function below will be used to the test data to check how predictive the classifier is."
      ]
    },
    {
      "cell_type": "code",
      "source": [
        "def model_assessment(model, X, y):\n",
        "    print(\"Confusion Matrix:\")\n",
        "    disp = ConfusionMatrixDisplay(confusion_matrix=confusion_matrix(y, model.predict(X), normalize='true'))\n",
        "    disp.plot(cmap=plt.cm.Blues)\n",
        "    disp.title = \"Normalized Confusion Matrix\"\n",
        "    plt.show()\n",
        "\n",
        "    #produce a classification report\n",
        "    print(\"Classification Report:\")\n",
        "    pred = model.predict(X)\n",
        "    print(classification_report(y, pred))\n",
        "    print('\\n')\n",
        "    print(\"Done\")\n",
        "\n",
        "model_assessment(lgb_fitted, X_test, y_test)"
      ],
      "metadata": {
        "colab": {
          "base_uri": "https://localhost:8080/",
          "height": 705
        },
        "id": "W9M_1ajga8ZE",
        "outputId": "9c2d388b-77ec-4f7d-8dcc-e18eff32ea6c"
      },
      "execution_count": 25,
      "outputs": [
        {
          "output_type": "stream",
          "name": "stdout",
          "text": [
            "Confusion Matrix:\n"
          ]
        },
        {
          "output_type": "display_data",
          "data": {
            "text/plain": [
              "<Figure size 640x480 with 2 Axes>"
            ],
            "image/png": "[encoded data removed]"
          },
          "metadata": {}
        },
        {
          "output_type": "stream",
          "name": "stdout",
          "text": [
            "Classification Report:\n",
            "              precision    recall  f1-score   support\n",
            "\n",
            "          no       0.91      0.98      0.94      7287\n",
            "         yes       0.58      0.27      0.37       949\n",
            "\n",
            "    accuracy                           0.89      8236\n",
            "   macro avg       0.75      0.62      0.65      8236\n",
            "weighted avg       0.87      0.89      0.88      8236\n",
            "\n",
            "\n",
            "\n",
            "Done\n"
          ]
        }
      ]
    },
    {
      "cell_type": "markdown",
      "metadata": {
        "id": "IhjsjCwN5pf3"
      },
      "source": [
        "The results above suggest that we may be perhaps facing a class imbalance problem. Let's see the counts of values for the two classes across the sets."
      ]
    },
    {
      "cell_type": "markdown",
      "metadata": {
        "id": "Iv4WdMZuNxt3"
      },
      "source": [
        "#### **Question 3:**\n",
        "Which is the most important metric in the table above that we should aim to maximise? Explain your point of view."
      ]
    },
    {
      "cell_type": "markdown",
      "metadata": {
        "id": "ZVV18ONB4WpQ"
      },
      "source": [
        "Let's print the results."
      ]
    },
    {
      "cell_type": "code",
      "metadata": {
        "id": "PYEDonwR4NMu",
        "colab": {
          "base_uri": "https://localhost:8080/"
        },
        "outputId": "8e72aa8a-03c6-455e-fcb4-3a1f7ef5032a"
      },
      "source": [
        "print(\"Training set:\")\n",
        "print(y_train.value_counts())\n",
        "print(\"---\")\n",
        "print(\"Validation set:\")\n",
        "print(y_val.value_counts())\n",
        "print(\"---\")\n",
        "print(\"Test set:\")\n",
        "print(y_test.value_counts())"
      ],
      "execution_count": 26,
      "outputs": [
        {
          "output_type": "stream",
          "name": "stdout",
          "text": [
            "Training set:\n",
            "no     23398\n",
            "yes     2954\n",
            "Name: y, dtype: int64\n",
            "---\n",
            "Validation set:\n",
            "no     5852\n",
            "yes     736\n",
            "Name: y, dtype: int64\n",
            "---\n",
            "Test set:\n",
            "no     7287\n",
            "yes     949\n",
            "Name: y, dtype: int64\n"
          ]
        }
      ]
    },
    {
      "cell_type": "markdown",
      "metadata": {
        "id": "X4cKGAtNgnEf"
      },
      "source": [
        "This clearly indicates that the model learns on imbalanced data (roughly 10 instances of class 0 to class 1) and cannot pick up what atttributes characterise the minority class (class 1 here).\n",
        "\n",
        "We now define the sampling operations and chain them."
      ]
    },
    {
      "cell_type": "code",
      "metadata": {
        "id": "urZXdxl1Honx"
      },
      "source": [
        "smote = SMOTE(sampling_strategy = 0.2, random_state = 55)\n",
        "undersample = RandomUnderSampler(sampling_strategy = 0.7, random_state = 55)\n",
        "\n",
        "# The process:\n",
        "# - Create new samples of the minority class to bring the balance to 2:10 (minority to majority class).\n",
        "# - Then, remove some samples of the majority class to bring the balance to 7:10.\n",
        "pipeline = Pipeline(steps=[('smote', smote), ('undersample', undersample)])\n",
        "\n",
        "# Apply over/undersampling.\n",
        "X_rebalanced, y_rebalanced = pipeline.fit_resample(X_train, y_train)"
      ],
      "execution_count": 27,
      "outputs": []
    },
    {
      "cell_type": "markdown",
      "metadata": {
        "id": "npOfh5ek44UV"
      },
      "source": [
        "Let's fit and assess the new model."
      ]
    },
    {
      "cell_type": "code",
      "metadata": {
        "id": "0pGc0t1449cB",
        "colab": {
          "base_uri": "https://localhost:8080/",
          "height": 764
        },
        "outputId": "7aabac63-f14b-41fe-b09c-4caf8a82e29e"
      },
      "source": [
        "# Assuming lgb_model is already created with the necessary parameters including 'verbose'\n",
        "lgb_fitted = lgb_model.fit(\n",
        "    X_rebalanced, y_rebalanced,\n",
        "    eval_set=[(X_val, y_val)],\n",
        "    callbacks=[lgb.early_stopping(500)]  # Using early_stopping as a callback\n",
        ")\n",
        "\n",
        "# Assuming model_assessment is a function you have defined to assess your model\n",
        "model_assessment(lgb_fitted, X_test, y_test)\n"
      ],
      "execution_count": 29,
      "outputs": [
        {
          "output_type": "stream",
          "name": "stdout",
          "text": [
            "Training until validation scores don't improve for 500 rounds\n",
            "Did not meet early stopping. Best iteration is:\n",
            "[22]\tvalid_0's binary_logloss: 0.365552\n",
            "Confusion Matrix:\n"
          ]
        },
        {
          "output_type": "display_data",
          "data": {
            "text/plain": [
              "<Figure size 640x480 with 2 Axes>"
            ],
            "image/png": "[encoded data removed]"
          },
          "metadata": {}
        },
        {
          "output_type": "stream",
          "name": "stdout",
          "text": [
            "Classification Report:\n",
            "              precision    recall  f1-score   support\n",
            "\n",
            "          no       0.94      0.91      0.92      7287\n",
            "         yes       0.42      0.54      0.47       949\n",
            "\n",
            "    accuracy                           0.86      8236\n",
            "   macro avg       0.68      0.72      0.70      8236\n",
            "weighted avg       0.88      0.86      0.87      8236\n",
            "\n",
            "\n",
            "\n",
            "Done\n"
          ]
        }
      ]
    },
    {
      "cell_type": "markdown",
      "metadata": {
        "id": "cPrHCaC_5AqQ"
      },
      "source": [
        "Another interesting metric to explore is Matthews correlation coefficient (MCC).\n",
        "The coefficient is a balanced measure for binary classification that is able to handle class imbalance, where a MCC of 1 represents perfect prediction, 0 would indicate the model is akin to random, and -1 is a complete inverse of the true classifications. You can find more information [here](https://lettier.github.io/posts/2016-08-05-matthews-correlation-coefficient.html).\n"
      ]
    },
    {
      "cell_type": "code",
      "metadata": {
        "id": "C8AoBMRy4X3L",
        "colab": {
          "base_uri": "https://localhost:8080/"
        },
        "outputId": "339bf4e0-9874-4178-e78c-d3bb67504087"
      },
      "source": [
        "y_pred = lgb_fitted.predict(X_val)\n",
        "score = matthews_corrcoef(y_val, y_pred)\n",
        "print(\"MCC of:\")\n",
        "print(score)"
      ],
      "execution_count": 30,
      "outputs": [
        {
          "output_type": "stream",
          "name": "stdout",
          "text": [
            "MCC of:\n",
            "0.43751310372582725\n"
          ]
        }
      ]
    },
    {
      "cell_type": "markdown",
      "metadata": {
        "id": "VkKkz4B_NV65"
      },
      "source": [
        "#### **Question 4:**\n",
        "Why does it make sense to check the MCC for this model? Why do some argue that it is a better measure than F-1 score or accuracy?"
      ]
    },
    {
      "cell_type": "markdown",
      "metadata": {
        "id": "rnOtMgy3IVzO"
      },
      "source": [
        "We are now doing better than before in terms of distinguishing between the two classes. The model is not placing almost all observations in the \"no\" bucket. In addition, the MCC, F-1 and accuracy outputs indicate good overall performance.  \n",
        "\n",
        "Unfortunately, the predictions for the \"yes\" samples are still quite poor, even though the recall/precision balance is less extreme."
      ]
    },
    {
      "cell_type": "markdown",
      "metadata": {
        "id": "eUYhJMW8fBox"
      },
      "source": [
        "### Establishing rules\n",
        "\n",
        "Once the model has been trained and optimised, we can try to distill it.\n",
        "\n",
        "The first thing that we can do to make the algorithm work faster is to figure out which features have the most predictive power.\n",
        "\n",
        "\n"
      ]
    },
    {
      "cell_type": "markdown",
      "metadata": {
        "id": "Cv5JbDlQ5TkH"
      },
      "source": [
        "One way to do so, is to extract feature importances according to the number of splits (numbers of times the feature is used in a model)."
      ]
    },
    {
      "cell_type": "code",
      "metadata": {
        "id": "KQw7RmirLcMQ",
        "colab": {
          "base_uri": "https://localhost:8080/",
          "height": 490
        },
        "outputId": "ed7574ec-79d1-4e36-a10c-d727ea985a90"
      },
      "source": [
        "# Get the underlying booster.\n",
        "booster = lgb_fitted.booster_\n",
        "\n",
        "# Produce visualisations.\n",
        "print(lgb.plot_importance(booster, max_num_features = 10, importance_type='split'))"
      ],
      "execution_count": 31,
      "outputs": [
        {
          "output_type": "stream",
          "name": "stdout",
          "text": [
            "Axes(0.125,0.11;0.775x0.77)\n"
          ]
        },
        {
          "output_type": "display_data",
          "data": {
            "text/plain": [
              "<Figure size 640x480 with 1 Axes>"
            ],
            "image/png": "[encoded data removed]"
          },
          "metadata": {}
        }
      ]
    },
    {
      "cell_type": "markdown",
      "metadata": {
        "id": "EB-zc_4V5cot"
      },
      "source": [
        "Let's create a list of the most important features"
      ]
    },
    {
      "cell_type": "code",
      "source": [
        "#Version change, feature importance lists features by name RANDMOMSTATE =55\n",
        "best_cols = ['age','euribor3m', 'campaign', 'education','cons.conf.idx', 'cons.price.idx','poutcome_failure','day_of_week_thu', 'day_of_week_mon', 'day_of_week_fri']"
      ],
      "metadata": {
        "id": "UrLavHNfOFii"
      },
      "execution_count": 32,
      "outputs": []
    },
    {
      "cell_type": "markdown",
      "metadata": {
        "id": "kVNBNBcaMvuA"
      },
      "source": [
        "#### **Question 5:**\n",
        "What are the other measures of feature importance that could be used here? Use one and check if your method would point to the same columns in the dataset as the 10 most important ones."
      ]
    },
    {
      "cell_type": "markdown",
      "metadata": {
        "id": "XR5vNegq561c"
      },
      "source": [
        "We can now retrain our model only using the columns above, save it and extract rules based on the features in best_cols. We start by extracting the relevant subset of the data."
      ]
    },
    {
      "cell_type": "code",
      "metadata": {
        "id": "5aUdXYJHRLsb"
      },
      "source": [
        "X_rebalanced_simple = X_rebalanced[best_cols]\n",
        "X_val_simple = X_val[best_cols]\n",
        "X_test_simple = X_test[best_cols]"
      ],
      "execution_count": 33,
      "outputs": []
    },
    {
      "cell_type": "markdown",
      "metadata": {
        "id": "aX-Ebey16Qb9"
      },
      "source": [
        "Before fitting the final model, let us map the classes to numbers as needed by the package."
      ]
    },
    {
      "cell_type": "code",
      "metadata": {
        "id": "kKVuxCoE6OHf"
      },
      "source": [
        "label_dict = {\"yes\":1, \"no\":0}\n",
        "y_rebalanced = pd.Series(y_rebalanced).map(label_dict)\n",
        "y_val = y_val.map(label_dict)\n",
        "y_test = y_test.map(label_dict)"
      ],
      "execution_count": 34,
      "outputs": []
    },
    {
      "cell_type": "markdown",
      "metadata": {
        "id": "VTYPFB5P6VN1"
      },
      "source": [
        "Now we can fit the model."
      ]
    },
    {
      "cell_type": "code",
      "metadata": {
        "id": "ade2AzvF6YgC",
        "colab": {
          "base_uri": "https://localhost:8080/"
        },
        "outputId": "9a6cb9f8-05ca-4aa1-cea5-c060c7d2cc6d"
      },
      "source": [
        "lgb_fitted = lgb_model.fit(\n",
        "    X_rebalanced_simple, y_rebalanced,\n",
        "    eval_set=[(X_val_simple, y_val)],\n",
        "    callbacks=[lgb.early_stopping(500)]  # Using early_stopping as a callback\n",
        ")\n"
      ],
      "execution_count": 36,
      "outputs": [
        {
          "output_type": "stream",
          "name": "stdout",
          "text": [
            "Training until validation scores don't improve for 500 rounds\n",
            "Did not meet early stopping. Best iteration is:\n",
            "[28]\tvalid_0's binary_logloss: 0.377616\n"
          ]
        }
      ]
    },
    {
      "cell_type": "markdown",
      "metadata": {
        "id": "XRfWVk6a6dbn"
      },
      "source": [
        "We can save our simplified LightGBM model details in a .txt file."
      ]
    },
    {
      "cell_type": "code",
      "metadata": {
        "id": "WyTSpzT26a6Q",
        "colab": {
          "base_uri": "https://localhost:8080/"
        },
        "outputId": "0598589c-5750-43fe-fbc6-8a3a378cf955"
      },
      "source": [
        "lgb_fitted.booster_.save_model('lgbmodel.txt')"
      ],
      "execution_count": 37,
      "outputs": [
        {
          "output_type": "execute_result",
          "data": {
            "text/plain": [
              "<lightgbm.basic.Booster at 0x7a3259a06740>"
            ]
          },
          "metadata": {},
          "execution_count": 37
        }
      ]
    },
    {
      "cell_type": "markdown",
      "metadata": {
        "id": "W_e2fgRy6g8X"
      },
      "source": [
        "Let's check the performance of our simple model too."
      ]
    },
    {
      "cell_type": "code",
      "metadata": {
        "id": "8EHruLsT6kuK",
        "colab": {
          "base_uri": "https://localhost:8080/",
          "height": 705
        },
        "outputId": "212559ba-0a20-42db-f876-e3e6ba090d6d"
      },
      "source": [
        "model_assessment(lgb_fitted, X_test_simple, y_test)"
      ],
      "execution_count": 38,
      "outputs": [
        {
          "output_type": "stream",
          "name": "stdout",
          "text": [
            "Confusion Matrix:\n"
          ]
        },
        {
          "output_type": "display_data",
          "data": {
            "text/plain": [
              "<Figure size 640x480 with 2 Axes>"
            ],
            "image/png": "[encoded data removed]"
          },
          "metadata": {}
        },
        {
          "output_type": "stream",
          "name": "stdout",
          "text": [
            "Classification Report:\n",
            "              precision    recall  f1-score   support\n",
            "\n",
            "           0       0.94      0.90      0.92      7287\n",
            "           1       0.42      0.55      0.48       949\n",
            "\n",
            "    accuracy                           0.86      8236\n",
            "   macro avg       0.68      0.73      0.70      8236\n",
            "weighted avg       0.88      0.86      0.87      8236\n",
            "\n",
            "\n",
            "\n",
            "Done\n"
          ]
        }
      ]
    },
    {
      "cell_type": "markdown",
      "metadata": {
        "id": "qy_3gihZd1rA"
      },
      "source": [
        "Having determined our simplified LGBM model performs as well as before, let us now derive rules using DefragTrees."
      ]
    },
    {
      "cell_type": "code",
      "metadata": {
        "id": "FTffcPCtuCyS",
        "colab": {
          "base_uri": "https://localhost:8080/"
        },
        "outputId": "b20e8452-94a0-4476-858c-224c96e779be"
      },
      "source": [
        "# Set the maximum number of rules, Kmax.\n",
        "# We can set it to 10.\n",
        "Kmax = 10\n",
        "\n",
        "# Parse the model saved in the .txt file.\n",
        "splitter = DefragModel.parseLGBtrees('./lgbmodel.txt')\n",
        "\n",
        "# Initialise the algorithm and specify the values of hyperparameters that\n",
        "# will govern the process of extracting the global rules.\n",
        "mdl = DefragModel(modeltype='classification', maxitr=100, qitr=0, tol=1e-6, restart=20, verbose=0, L=5)\n",
        "\n",
        "# Fit the algorithm to the training data and evaluate it on the test data.\n",
        "mdl.fit(X_rebalanced_simple.to_numpy(), y_rebalanced.to_numpy(), splitter, Kmax, fittype='FAB', featurename=best_cols)\n",
        "\n",
        "score, cover, coll = mdl.evaluate(X_test_simple.to_numpy(), y_test.to_numpy())\n",
        "print()\n",
        "print('<< defragTrees >>')\n",
        "print('----- Evaluated Results -----')\n",
        "print('Test Error = %f' % (score,))\n",
        "print('Test Coverage = %f' % (cover,))\n",
        "print('Overlap = %f' % (coll,))\n",
        "print()\n",
        "print('----- Found Rules -----')\n",
        "print(mdl)"
      ],
      "execution_count": 39,
      "outputs": [
        {
          "output_type": "stream",
          "name": "stdout",
          "text": [
            "[Seed   0] TrainingError = 0.30, K = 10\n",
            "[Seed   1] TrainingError = 0.29, K = 10\n",
            "[Seed   2] TrainingError = 0.35, K = 10\n",
            "[Seed   3] TrainingError = 0.33, K = 9\n",
            "[Seed   4] TrainingError = 0.30, K = 8\n",
            "[Seed   5] TrainingError = 0.28, K = 7\n",
            "[Seed   6] TrainingError = 0.32, K = 9\n",
            "[Seed   7] TrainingError = 0.27, K = 8\n",
            "[Seed   8] TrainingError = 0.39, K = 8\n",
            "[Seed   9] TrainingError = 0.27, K = 8\n",
            "[Seed  10] TrainingError = 0.28, K = 9\n",
            "[Seed  11] TrainingError = 0.38, K = 9\n",
            "[Seed  12] TrainingError = 0.49, K = 9\n",
            "[Seed  13] TrainingError = 0.27, K = 9\n",
            "[Seed  14] TrainingError = 0.27, K = 8\n",
            "[Seed  15] TrainingError = 0.27, K = 9\n",
            "[Seed  16] TrainingError = 0.35, K = 7\n",
            "[Seed  17] TrainingError = 0.27, K = 8\n",
            "[Seed  18] TrainingError = 0.28, K = 9\n",
            "[Seed  19] TrainingError = 0.26, K = 7\n",
            "Optimal Model >> Seed  19, TrainingError = 0.26, K = 7\n",
            "\n",
            "<< defragTrees >>\n",
            "----- Evaluated Results -----\n",
            "Test Error = 0.170471\n",
            "Test Coverage = 1.000000\n",
            "Overlap = 1.000000\n",
            "\n",
            "----- Found Rules -----\n",
            "[Rule  1]\n",
            "y = 0 when\n",
            "\t euribor3m > 0.886187\n",
            "\t cons.conf.idx > -44.300000\n",
            "\t cons.price.idx > 93.074626\n",
            "\n",
            "[Rule  2]\n",
            "y = 0 when\n",
            "\t 0.886187 < euribor3m <= 4.139809\n",
            "\n",
            "[Rule  3]\n",
            "y = 0 when\n",
            "\t 0.886187 < euribor3m <= 4.967002\n",
            "\t cons.conf.idx > -44.300000\n",
            "\t cons.price.idx > 93.074626\n",
            "\n",
            "[Rule  4]\n",
            "y = 0 when\n",
            "\t euribor3m > 4.139809\n",
            "\n",
            "[Rule  5]\n",
            "y = 1 when\n",
            "\t euribor3m <= 4.139809\n",
            "\t cons.conf.idx > -44.300000\n",
            "\n",
            "[Rule  6]\n",
            "y = 1 when\n",
            "\t 0.886187 < euribor3m <= 4.139809\n",
            "\n",
            "[Rule  7]\n",
            "y = 1 when\n",
            "\t euribor3m <= 4.139809\n",
            "\t cons.conf.idx > -44.300000\n",
            "\n",
            "[Otherwise]\n",
            "y = 0\n",
            "\n"
          ]
        },
        {
          "output_type": "stream",
          "name": "stderr",
          "text": [
            "/content/defragTrees/defragTrees.py:335: VisibleDeprecationWarning: Creating an ndarray from ragged nested sequences (which is a list-or-tuple of lists-or-tuples-or ndarrays with different lengths or shapes) is deprecated. If you meant to do this, you must specify 'dtype=object' when creating the ndarray.\n",
            "  rule = np.array(rule)[idx].tolist()\n"
          ]
        }
      ]
    },
    {
      "cell_type": "markdown",
      "metadata": {
        "id": "_H1H832SfNzU"
      },
      "source": [
        "*Note: The InTrees algorithm may produce different rules on your system, and so it is possible that the following interperation of the output does not match what you receive.*\n",
        "\n",
        "Amazing! Our algorithm has found 8 rules which result in a test error of 18.4% (or 81.6% accuracy) when applied to the test set (the coverage is 100%).\n"
      ]
    },
    {
      "cell_type": "markdown",
      "metadata": {
        "id": "AZJ5u0HCPKt9"
      },
      "source": [
        "#### **Question 6:**\n",
        "Are any of these rules redundant? How can we combine them into a shorter set?"
      ]
    },
    {
      "cell_type": "markdown",
      "metadata": {
        "id": "2bRajj_37CNu"
      },
      "source": [
        "We can further simplify the output. Let's re-run the code but set the maximum number of rules to 3."
      ]
    },
    {
      "cell_type": "code",
      "metadata": {
        "id": "Zyt4Ckv4h6Am",
        "colab": {
          "base_uri": "https://localhost:8080/"
        },
        "outputId": "13eac1c4-eb85-4b54-a04e-f872bb945576"
      },
      "source": [
        "Kmax = 3\n",
        "mdl.fit(X_rebalanced_simple.to_numpy(), y_rebalanced.to_numpy(), splitter, Kmax, fittype='FAB', featurename=best_cols)\n",
        "\n",
        "score, cover, coll = mdl.evaluate(X_test_simple.to_numpy(), y_test.to_numpy())\n",
        "print()\n",
        "print('<< defragTrees >>')\n",
        "print('----- Evaluated Results -----')\n",
        "print('Test Error = %f' % (score,))\n",
        "print('Test Coverage = %f' % (cover,))\n",
        "print('Overlap = %f' % (coll,))\n",
        "print()\n",
        "print('----- Found Rules -----')\n",
        "print(mdl)"
      ],
      "execution_count": 40,
      "outputs": [
        {
          "output_type": "stream",
          "name": "stdout",
          "text": [
            "[Seed   0] TrainingError = 0.28, K = 3\n",
            "[Seed   1] TrainingError = 0.31, K = 3\n",
            "[Seed   2] TrainingError = 0.35, K = 3\n",
            "[Seed   3] TrainingError = 0.32, K = 3\n",
            "[Seed   4] TrainingError = 0.35, K = 3\n",
            "[Seed   5] TrainingError = 0.32, K = 3\n",
            "[Seed   6] TrainingError = 0.32, K = 3\n",
            "[Seed   7] TrainingError = 0.27, K = 3\n",
            "[Seed   8] TrainingError = 0.55, K = 3\n",
            "[Seed   9] TrainingError = 0.28, K = 3\n",
            "[Seed  10] TrainingError = 0.28, K = 3\n",
            "[Seed  11] TrainingError = 0.30, K = 3\n",
            "[Seed  12] TrainingError = 0.36, K = 3\n",
            "[Seed  13] TrainingError = 0.27, K = 3\n",
            "[Seed  14] TrainingError = 0.28, K = 3\n",
            "[Seed  15] TrainingError = 0.27, K = 3\n",
            "[Seed  16] TrainingError = 0.35, K = 3\n",
            "[Seed  17] TrainingError = 0.34, K = 3\n",
            "[Seed  18] TrainingError = 0.28, K = 3\n",
            "[Seed  19] TrainingError = 0.28, K = 3\n",
            "Optimal Model >> Seed  15, TrainingError = 0.27, K = 3\n",
            "\n",
            "<< defragTrees >>\n",
            "----- Evaluated Results -----\n",
            "Test Error = 0.125182\n",
            "Test Coverage = 1.000000\n",
            "Overlap = 0.601384\n",
            "\n",
            "----- Found Rules -----\n",
            "[Rule  1]\n",
            "y = 0 when\n",
            "\t euribor3m > 1.044125\n",
            "\t cons.conf.idx > -49.487281\n",
            "\n",
            "[Rule  2]\n",
            "y = 1 when\n",
            "\t euribor3m <= 4.860306\n",
            "\n",
            "[Rule  3]\n",
            "y = 1 when\n",
            "\t euribor3m <= 4.860306\n",
            "\n",
            "[Otherwise]\n",
            "y = 0\n",
            "\n"
          ]
        }
      ]
    },
    {
      "cell_type": "markdown",
      "metadata": {
        "id": "tWj1RvlGiSUV"
      },
      "source": [
        "*Note: Again, the interpretation of the rules may be different than your output.*\n",
        "\n",
        "The test error is 16.4% and the coverage is the same as before but we have only 3 rules to consider. Those are:\n",
        "\n",
        "*   If age > 29.019046 and euribor3m > 1.280790, class 0 (no)\n",
        "*   If age <= 58.525991 and euribor3m > 1.280790, class 0 (no)\n",
        "*   If euribor3m <= 4.192393, class 1 (yes)\n",
        "*   In any other case, it will be class 0 (no)\n",
        "\n",
        "In other words, we only need to consider 2 features to craft a rule-based model whose overall accuracy would be better than 83%:\n",
        "\n",
        "*   euribor3m - Euribor 3 month rate (Eurozone interest rate benchmark)\n",
        "*   age - client age (numeric)\n",
        "\n",
        "We can collapse those three rules and create a system that is even simpler if we look closely at the conditions. It would be:\n",
        "\n",
        "\"If the eurozone interest rate is less than  or equal to 4.19%, then this customer will be predicted as class 1.\"\n",
        "\n",
        "\n"
      ]
    },
    {
      "cell_type": "markdown",
      "metadata": {
        "id": "VF2mfZpi7G_p"
      },
      "source": [
        "We can further double-check the accuracy of such rule."
      ]
    },
    {
      "cell_type": "code",
      "source": [
        "#Based on new, simpler outputs\n",
        "rule_outcome = [1 if val1 <= 4.192393 else 0 for val1 in  X_test_simple[\"euribor3m\"]]\n",
        "print(classification_report(y_test, rule_outcome))"
      ],
      "metadata": {
        "colab": {
          "base_uri": "https://localhost:8080/"
        },
        "id": "Pg-yoy1lJPth",
        "outputId": "c56e7520-8be4-4842-93e6-d79acfeb422a"
      },
      "execution_count": 41,
      "outputs": [
        {
          "output_type": "stream",
          "name": "stdout",
          "text": [
            "              precision    recall  f1-score   support\n",
            "\n",
            "           0       0.95      0.63      0.76      7287\n",
            "           1       0.21      0.74      0.32       949\n",
            "\n",
            "    accuracy                           0.64      8236\n",
            "   macro avg       0.58      0.69      0.54      8236\n",
            "weighted avg       0.86      0.64      0.71      8236\n",
            "\n"
          ]
        }
      ]
    },
    {
      "cell_type": "markdown",
      "metadata": {
        "id": "QBcjnS2bohaq"
      },
      "source": [
        "The results above show that one simple rule can be as good as a LGBM model with over/undersampling applied to it!"
      ]
    },
    {
      "cell_type": "markdown",
      "metadata": {
        "id": "mfpqCln-qJVO"
      },
      "source": [
        "#### **Question 7:**\n",
        "Is a model that can be replaced by a rule looking at the eurozone interest rate and consumer confidence index a sensible construct? What factors could be driving this relationship between the feature and the outcome label?\n",
        "\n"
      ]
    },
    {
      "cell_type": "markdown",
      "metadata": {
        "id": "2p1EJ8Wta-ti"
      },
      "source": [
        "---\n",
        "\n",
        "## Assignment 4\n",
        "\n",
        "\n",
        "1.   Given that the observations are ordered by the time dimension (the earliest samples are the first ones in the dataset; see the description of the dataset on the UCI's website) and we want to predict the outcomes of future engagements, what would be the best training-validation-test splitting strategy? Split the observations in a way that you would consider the most appropriate.\n",
        "2.   What are the problems with imputing means and medians? Are there any other imputation methods which we could consider and would result in better\n",
        "quality imputed data? What packages in Python can be used to apply them?\n",
        "3.   Name other methods of deadling with imbalanced datasets apart from under/oversampling.\n",
        "4.   Instead of a LGBM model, train and assess an XGBoost model on the provided dataset. Which hyperparameters of XGBoost could we tweak to improve its performance on this imbalanced dataset?\n",
        "5.   Check how the imbalance changes with time - for example, plot how many \"no\" observations we have per one \"yes\" observation among the first 10000 samples, the next 10000 etc. (this way, you will get 5 ratios (obs. 1-10000, 10001-20000, 20001-30000, 30001-40000, 40001-41188)). Can you see any trends? If yes, what is the implication of this for the model building?  \n",
        "6.   Distill the model you created in 4. into a set of rules using defragTrees. What is the test error of this system? Can you simplify it further? Is is different from what has been generated under a LGBM model?\n",
        "\n"
      ]
    }
  ]
}